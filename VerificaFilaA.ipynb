{
  "nbformat": 4,
  "nbformat_minor": 0,
  "metadata": {
    "colab": {
      "name": "Untitled4.ipynb",
      "provenance": [],
      "collapsed_sections": []
    },
    "kernelspec": {
      "name": "python3",
      "display_name": "Python 3"
    },
    "language_info": {
      "name": "python"
    }
  },
  "cells": [
    {
      "cell_type": "markdown",
      "metadata": {
        "id": "8YLmj9b9Wgjk"
      },
      "source": [
        "scrivere un programma che data una data nella forma gg/mm/aaaa visualizzi separatamente il giorno, il mese e l'anno."
      ]
    },
    {
      "cell_type": "code",
      "metadata": {
        "colab": {
          "base_uri": "https://localhost:8080/"
        },
        "id": "54NAmwlsXK2P",
        "outputId": "0daae7a0-a46c-4dda-9609-6645e84c8c38"
      },
      "source": [
        "data = input().split('/')\n",
        "print(data[0])\n",
        "print(data[1])\n",
        "print(data[2])"
      ],
      "execution_count": null,
      "outputs": [
        {
          "output_type": "stream",
          "name": "stdout",
          "text": [
            "11/03/2003\n",
            "11\n",
            "03\n",
            "2003\n"
          ]
        }
      ]
    },
    {
      "cell_type": "markdown",
      "metadata": {
        "id": "lj9CAYJDWkvH"
      },
      "source": [
        "scrivere un programma che permetta di stabilire se un numero dispari è divisibile per 5. L'utente inserisce il numero e il programma, una volta controllato che sia dispari, controlla anche se è divisibile per 5."
      ]
    },
    {
      "cell_type": "code",
      "metadata": {
        "colab": {
          "base_uri": "https://localhost:8080/"
        },
        "id": "e5l8D--kXjF5",
        "outputId": "ae34500e-fb6d-4510-d39b-b775d181dce4"
      },
      "source": [
        "num = int(input())\n",
        "if num % 2 != 0:\n",
        "  if num%5 ==0:\n",
        "    print(num,'è divisibile per 5')"
      ],
      "execution_count": null,
      "outputs": [
        {
          "name": "stdout",
          "output_type": "stream",
          "text": [
            "50\n"
          ]
        }
      ]
    },
    {
      "cell_type": "markdown",
      "metadata": {
        "id": "-VLg5lQ5WliS"
      },
      "source": [
        "scrivere un programma per verificare se una parola comincia e finisce con la stessa lettera."
      ]
    },
    {
      "cell_type": "code",
      "metadata": {
        "colab": {
          "base_uri": "https://localhost:8080/"
        },
        "id": "EGDOpuAFX0ow",
        "outputId": "0219cd3a-8552-40b9-d8a2-da38d0cc73f9"
      },
      "source": [
        "stringa = input()\n",
        "stringa[0] == stringa[-1]"
      ],
      "execution_count": null,
      "outputs": [
        {
          "name": "stdout",
          "output_type": "stream",
          "text": [
            "ave\n"
          ]
        },
        {
          "output_type": "execute_result",
          "data": {
            "text/plain": [
              "False"
            ]
          },
          "metadata": {},
          "execution_count": 8
        }
      ]
    },
    {
      "cell_type": "markdown",
      "metadata": {
        "id": "Klk3BEK4WnmX"
      },
      "source": [
        "scrivere una programa che permetta di caricare una lista di parole e che elimini dalla lista tutte le parole che iniziano con una lettera inserita dall'utente"
      ]
    },
    {
      "cell_type": "code",
      "metadata": {
        "colab": {
          "base_uri": "https://localhost:8080/"
        },
        "id": "3f2ebHabX9uY",
        "outputId": "9dba0cbe-91f6-4181-ef65-598c1f877f36"
      },
      "source": [
        "lst = input().split()\n",
        "lettera = input()\n",
        "for parola in lst:\n",
        "  if parola[0] == lettera:\n",
        "    lst.remove(parola)\n",
        "print(lst)"
      ],
      "execution_count": null,
      "outputs": [
        {
          "output_type": "stream",
          "name": "stdout",
          "text": [
            "ciao bio miop\n",
            "c\n",
            "['bio', 'miop']\n"
          ]
        }
      ]
    },
    {
      "cell_type": "markdown",
      "metadata": {
        "id": "L1NqoDkdWqdi"
      },
      "source": [
        "scrivere una funzione che data una parola restituisca la stessa parola senza le vocali"
      ]
    },
    {
      "cell_type": "code",
      "metadata": {
        "colab": {
          "base_uri": "https://localhost:8080/"
        },
        "id": "JkYqS8l_YZ-w",
        "outputId": "f796c88f-0425-4a09-d1ba-6a3e7e3a8f8a"
      },
      "source": [
        "def vocali(parola):\n",
        "    for i in 'aeiouAEIOU':\n",
        "      parola = parola.replace(i,\" \")\n",
        "    return parola\n",
        "\n",
        "p = input()\n",
        "print(vocali(p))"
      ],
      "execution_count": null,
      "outputs": [
        {
          "output_type": "stream",
          "name": "stdout",
          "text": [
            "ciao\n",
            "c   \n"
          ]
        }
      ]
    },
    {
      "cell_type": "markdown",
      "metadata": {
        "id": "6wc_xeB8WsVM"
      },
      "source": [
        "scrivere un programma che utilizzando la funzione precedente elimini da una frase composta da più parole tutte le vocali"
      ]
    },
    {
      "cell_type": "code",
      "metadata": {
        "colab": {
          "base_uri": "https://localhost:8080/"
        },
        "id": "Q9YA3MGXZllg",
        "outputId": "53da6739-eadb-4ad1-85f8-d28102e7c6e1"
      },
      "source": [
        "frase = input().split()\n",
        "lst = list(map(vocali,frase))\n",
        "print(lst)"
      ],
      "execution_count": null,
      "outputs": [
        {
          "output_type": "stream",
          "name": "stdout",
          "text": [
            "ciao mio bio\n",
            "['c   ', 'm  ', 'b  ']\n"
          ]
        }
      ]
    },
    {
      "cell_type": "markdown",
      "metadata": {
        "id": "2y_HWveOWtzz"
      },
      "source": [
        "scrivere un programma che utilizzando una lambda function sostituisca ad ogni elemento di una lista di parole la lunghezza delle parole stesse. Ad esempio se la lista fosse [‘mamma’, ‘stella’, ‘casa’] la lista finale dovrebbe essere [5, 5, 4]"
      ]
    },
    {
      "cell_type": "code",
      "metadata": {
        "colab": {
          "base_uri": "https://localhost:8080/"
        },
        "id": "eHVWVlqkaaAh",
        "outputId": "87b69475-73f9-4339-c500-a59d579e199a"
      },
      "source": [
        "frase = input().split()\n",
        "count = list(map(lambda x: len(x), frase))\n",
        "  \n",
        "print(count)"
      ],
      "execution_count": 1,
      "outputs": [
        {
          "output_type": "stream",
          "name": "stdout",
          "text": [
            "cia mica dica\n",
            "[3, 4, 4]\n"
          ]
        }
      ]
    },
    {
      "cell_type": "markdown",
      "metadata": {
        "id": "fvSTrAmyWvoz"
      },
      "source": [
        "scrivere un programma che utilizzando una lambda function elimini da una lista di parole tutte quelle più corte di un valore inserito dall’utente. Ad esempio se la lista fosse [‘tre’, ‘stella’, ‘casa’] e l’utente inserisse il valore 5, la lista finale dovrebbe essere [‘stella’]"
      ]
    },
    {
      "cell_type": "code",
      "metadata": {
        "colab": {
          "base_uri": "https://localhost:8080/"
        },
        "id": "qrLNWnMRa1WZ",
        "outputId": "639f6876-ace2-4b80-ce83-6887f55069ea"
      },
      "source": [
        "N = int(input())\n",
        "lst = input().split()\n",
        "res = list(filter(lambda x : len(x) >= N,lst))\n",
        "print(res)"
      ],
      "execution_count": null,
      "outputs": [
        {
          "output_type": "stream",
          "name": "stdout",
          "text": [
            "3\n",
            "ciao mio bi\n",
            "['ciao', 'mio']\n"
          ]
        }
      ]
    },
    {
      "cell_type": "markdown",
      "metadata": {
        "id": "bA5cLWV3Wx8p"
      },
      "source": [
        "MilanoSport propone corsi di nuoto e vuole memorizzare i nomi dei corsi e i cognomi delle persone che partecipano a quel corso. Caricare in una struttura dati apposita i nomi dei corsi (solo due nomi) e i cognomi dei partecipanti (solo due cognomi) e permettere di avere i cognomi dei partecipanti di un determinato corso inserito dall’utente"
      ]
    },
    {
      "cell_type": "code",
      "metadata": {
        "colab": {
          "base_uri": "https://localhost:8080/",
          "height": 90
        },
        "id": "K9FGW2HGbcey",
        "outputId": "51fdf0f2-997a-4ef2-e3a2-7d006d980d43"
      },
      "source": [
        "nomiC = input().split()\n",
        "cognomi = input().split()\n",
        "d = dict(zip(nomiC, cognomi))\n",
        "nomeCorso = input()\n",
        "d[nomeCorso]"
      ],
      "execution_count": null,
      "outputs": [
        {
          "name": "stdout",
          "output_type": "stream",
          "text": [
            "ci bi\n",
            "elsherbini tolba\n",
            "ci\n"
          ]
        },
        {
          "output_type": "execute_result",
          "data": {
            "application/vnd.google.colaboratory.intrinsic+json": {
              "type": "string"
            },
            "text/plain": [
              "'elsherbini'"
            ]
          },
          "metadata": {},
          "execution_count": 30
        }
      ]
    }
  ]
}