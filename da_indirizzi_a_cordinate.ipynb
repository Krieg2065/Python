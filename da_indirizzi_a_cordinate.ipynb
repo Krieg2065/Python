{
  "nbformat": 4,
  "nbformat_minor": 0,
  "metadata": {
    "colab": {
      "name": "da_indirizzi_a_cordinate.ipynb",
      "provenance": [],
      "collapsed_sections": [],
      "authorship_tag": "ABX9TyOmUL25Tkgtp6/i5rqPkT3g",
      "include_colab_link": true
    },
    "kernelspec": {
      "name": "python3",
      "display_name": "Python 3"
    },
    "language_info": {
      "name": "python"
    }
  },
  "cells": [
    {
      "cell_type": "markdown",
      "metadata": {
        "id": "view-in-github",
        "colab_type": "text"
      },
      "source": [
        "<a href=\"https://colab.research.google.com/github/Krieg2065/Python/blob/main/da_indirizzi_a_cordinate.ipynb\" target=\"_parent\"><img src=\"https://colab.research.google.com/assets/colab-badge.svg\" alt=\"Open In Colab\"/></a>"
      ]
    },
    {
      "cell_type": "code",
      "execution_count": null,
      "metadata": {
        "id": "Qx_ZFZsCsa5B"
      },
      "outputs": [],
      "source": [
        "from geopy.extra.rate_limiter import RateLimiter\n",
        "from geopy.geocoders import Nominatim\n",
        "import numpy as np\n",
        "import shapely.geometry\n",
        "import pandas as pd\n",
        "import pymongo\n",
        "import geopandas\n",
        "\n",
        "\n",
        "locator = Nominatim()\n",
        "\n",
        "# 1 - conveneint function to delay between geocoding calls\n",
        "geocode = RateLimiter(locator.geocode, min_delay_seconds=1)\n",
        "# 2- - create location column\n",
        "tuo_dataframe['location'] = tuo_dataframe['la Tua Colonna Con Vie QUI'].apply(geocode)\n",
        "# 3 - create longitude, latitude and altitude from location column (returns tuple)\n",
        "tuo_dataframe['point'] = tuo_dataframe['location'].apply(lambda loc: tuple(loc.point) if loc else None)\n",
        "# 4 - fill all none values with NaN\n",
        "tuo_dataframe.point.fillna(value=np.nan, inplace=True)\n",
        "#5 - save all NaN values in another dataframe\n",
        "tuo_dataframe_nan = tuo_dataframe[tuo_dataframe['point'].isnull()]\n",
        "#6- drop all NaN values\n",
        "tuo_dataframe.dropna(subset=['point'], inplace = True)\n",
        "#7 - create a Longitude column from point column\n",
        "tuo_dataframe['Longitude'] = tuo_dataframe.point.apply(lambda x: x[1])\n",
        "#8 - create a Latitude column from point column\n",
        "tuo_dataframe['Latitude'] = tuo_dataframe.point.apply(lambda x: x[0])\n",
        "# 9 - convert DataFrane to GeoDataFrame\n",
        "gdf = geopandas.GeoDataFrame(tuo_dataframe, geometry=geopandas.points_from_xy(tuo_dataframe.Longitude, tuo_dataframe.Latitude))\n",
        "# 10 - drop all columns that are not needed\n",
        "gdf.drop(['_id','point','Longitude','Latitude','location'], axis= 1,inplace = True) #drop id solo se hai la colonna _id di mongodb\n",
        "# 11 - converting geographical data in a GeoPandas GeoDataframe to a MongoDB Geopoint object\n",
        "gdf['geometry']=gdf['geometry'].apply(lambda x:shapely.geometry.mapping(x))\n",
        "# 12 - inserting the GeoDataFrame in a collection on MongoDB\n",
        "db.TuaCollection.insert_many(gdf.to_dict('records'))\n",
        "\n",
        "if not tuo_dataframe_nan.empty:\n",
        "  db.TuaCollectionNan.insert_many(tuo_dataframe_nan.to_dict('records')) #serve a salvare tutti i valori che non hai trovato sul database"
      ]
    }
  ]
}