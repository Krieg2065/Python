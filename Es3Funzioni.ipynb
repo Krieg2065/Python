{
  "nbformat": 4,
  "nbformat_minor": 0,
  "metadata": {
    "colab": {
      "name": "Es3Funzioni.ipynb",
      "provenance": [],
      "collapsed_sections": []
    },
    "kernelspec": {
      "name": "python3",
      "display_name": "Python 3"
    },
    "language_info": {
      "name": "python"
    }
  },
  "cells": [
    {
      "cell_type": "markdown",
      "metadata": {
        "id": "-yyP6IgD2Yvw"
      },
      "source": [
        "1. scrivere un programma che permetta all'utente di inserire tre valori e visualizzi quello intermedio."
      ]
    },
    {
      "cell_type": "code",
      "metadata": {
        "colab": {
          "base_uri": "https://localhost:8080/"
        },
        "id": "6o-y5sg000uW",
        "outputId": "f443a3d9-c11c-4a3e-da08-e33d401002c4"
      },
      "source": [
        "N1,N2,N3 = int(input(\"inserisci numero \")),int(input(\"inserisci numero \")),int(input(\"inserisci numero \"))\n",
        "\n",
        "if N1 >N2>N3 or N3 >N2> N1:\n",
        "  print(N2)\n",
        "elif N2 >N1>N3 or N3 >N1>N2:\n",
        "  print(N1)\n",
        "elif N1 >N3>N2 or N2 >N3>N1:\n",
        "  print(N3)\n"
      ],
      "execution_count": 17,
      "outputs": [
        {
          "output_type": "stream",
          "name": "stdout",
          "text": [
            "inserisci numero57\n",
            "inserisci numero4\n",
            "inserisci numero12\n",
            "12\n"
          ]
        }
      ]
    },
    {
      "cell_type": "markdown",
      "metadata": {
        "id": "jx724qP32bs_"
      },
      "source": [
        "2. scrivere un programma che permetta all'utente di caricare una lista di numeri interi ed un valore e carichi in un'altra lista tutti gli elementi della prima lista che sono multipli del valore inserito. Al termnine visualizzare entrambe le liste."
      ]
    },
    {
      "cell_type": "code",
      "metadata": {
        "colab": {
          "base_uri": "https://localhost:8080/"
        },
        "id": "w43j3w5-0Tll",
        "outputId": "b4661149-3934-464f-c3ae-97066421e955"
      },
      "source": [
        "lst = list(map(int,input().split()))\n",
        "M = int(input())\n",
        "lst2 = []\n",
        "for num in lst:\n",
        "  if (num % M) == 0:\n",
        "    lst2.append(num)\n",
        "print(lst)\n",
        "print(lst2)"
      ],
      "execution_count": 11,
      "outputs": [
        {
          "output_type": "stream",
          "name": "stdout",
          "text": [
            "6 87 6 1762 8 7 6 2 15\n",
            "3\n",
            "[6, 87, 6, 1762, 8, 7, 6, 2, 15]\n",
            "[6, 87, 6, 6, 15]\n"
          ]
        }
      ]
    },
    {
      "cell_type": "markdown",
      "metadata": {
        "id": "8n8woqEr2gh1"
      },
      "source": [
        "3. scrivere un programma che permetta all'utente di memorizzare in un dizionario i numeri di telefono dei propri amici. L'utente deve poter inserire i nomi e i numeri."
      ]
    },
    {
      "cell_type": "code",
      "metadata": {
        "colab": {
          "base_uri": "https://localhost:8080/"
        },
        "id": "e_BlaFu3xdvD",
        "outputId": "148f876c-1518-406a-fbd6-a023ba6779fa"
      },
      "source": [
        "nomi = input().split()\n",
        "num = input().split()\n",
        "d = dict(zip(nomi,num))\n"
      ],
      "execution_count": 1,
      "outputs": [
        {
          "output_type": "stream",
          "name": "stdout",
          "text": [
            "marco\n",
            "34873728\n",
            "dict_items([('marco', '34873728')])\n"
          ]
        }
      ]
    },
    {
      "cell_type": "markdown",
      "metadata": {
        "id": "h3JD-tOl2jOS"
      },
      "source": [
        "4. scrivere un programma che dato il dizionario dell'esercizio precedente, permetta all'utente di inserire un nome e avere il numero di telefono corrispondente"
      ]
    },
    {
      "cell_type": "code",
      "metadata": {
        "colab": {
          "base_uri": "https://localhost:8080/"
        },
        "id": "2OaqpTgeyB8X",
        "outputId": "68c7e314-7b48-4733-dc84-76e4c2d7d6ee"
      },
      "source": [
        "nome = input()\n",
        "print(d[nome])"
      ],
      "execution_count": 2,
      "outputs": [
        {
          "output_type": "stream",
          "name": "stdout",
          "text": [
            "marco\n",
            "34873728\n"
          ]
        }
      ]
    },
    {
      "cell_type": "markdown",
      "metadata": {
        "id": "9SQVJJCD2lgb"
      },
      "source": [
        "5. scrivere una funzione che dato il raggio calcoli la superficie del cerchio avente quel raggio. Chiamare al funzione superficie,. Il valore di ritorno deve avere tre cifre decimali."
      ]
    },
    {
      "cell_type": "code",
      "metadata": {
        "colab": {
          "base_uri": "https://localhost:8080/"
        },
        "id": "5p4dFjHsyPbL",
        "outputId": "aab31ca6-d629-4f68-8fb7-3a950c26982e"
      },
      "source": [
        "import math\n",
        "def superfice(r):\n",
        "  return math.pi * r*r\n",
        "r = float(input())\n",
        "c = superfice(r)\n",
        "print(format(c,\".3f\"))"
      ],
      "execution_count": 6,
      "outputs": [
        {
          "output_type": "stream",
          "name": "stdout",
          "text": [
            "6\n",
            "113.097\n"
          ]
        }
      ]
    },
    {
      "cell_type": "markdown",
      "metadata": {
        "id": "ut0WzDnw2nLm"
      },
      "source": [
        "6. scrivere una funzione che, utilizzando la funzione superficie dell'esercizio precedente, permetta di calcolare il volume di un cilindro dato il raggio e l'altezza. Chiamare la funzione volume. "
      ]
    },
    {
      "cell_type": "code",
      "metadata": {
        "colab": {
          "base_uri": "https://localhost:8080/"
        },
        "id": "Cg4MIqCYy2Nk",
        "outputId": "a7d40858-6d49-4e09-a055-d42cdc8280e7"
      },
      "source": [
        "def volume(a,h):\n",
        "  return a*h\n",
        "\n",
        "r = int(input())\n",
        "h = int(input())\n",
        "V = volume(superfice(r),h)\n",
        "print(V)"
      ],
      "execution_count": 7,
      "outputs": [
        {
          "output_type": "stream",
          "name": "stdout",
          "text": [
            "7\n",
            "23\n",
            "3540.5749205956968\n"
          ]
        }
      ]
    },
    {
      "cell_type": "markdown",
      "metadata": {
        "id": "ULbiFUN_2ov1"
      },
      "source": [
        "7. scrivere un programma che permetta di decrementare tutti gli elementi di una lista utilizzando una lambda function e la funzione map(). Far inserire all'utente gli elementi della lista."
      ]
    },
    {
      "cell_type": "code",
      "metadata": {
        "colab": {
          "base_uri": "https://localhost:8080/"
        },
        "id": "8VjvstIGznIz",
        "outputId": "d9074ee7-6977-42e3-8116-6b9cf8a72446"
      },
      "source": [
        "dec = lambda x : x - 2\n",
        "lst = list(map(int,input().split()))\n",
        "nDec = list(map(dec,lst))\n",
        "print(nDec)"
      ],
      "execution_count": 9,
      "outputs": [
        {
          "output_type": "stream",
          "name": "stdout",
          "text": [
            "6 7 8 9\n",
            "[4, 5, 6, 7]\n"
          ]
        }
      ]
    },
    {
      "cell_type": "markdown",
      "metadata": {
        "id": "NqlIW1Gy2qs2"
      },
      "source": [
        "8. scrivere un programma che permetta di estrarre da una lista tutti i valori pari utilizzando una lambda function e la funzione filter(). Far inserire all'utente gli elementi della lista."
      ]
    },
    {
      "cell_type": "code",
      "metadata": {
        "colab": {
          "base_uri": "https://localhost:8080/"
        },
        "id": "-wEq8qjnz8z5",
        "outputId": "b5112c26-414d-422d-e251-72edf5675449"
      },
      "source": [
        "lst = list(map(int,input().split()))\n",
        "pari = lambda x : x % 2 == 0\n",
        "lst2 = list(filter(pari,lst))\n",
        "print(lst2)"
      ],
      "execution_count": 10,
      "outputs": [
        {
          "output_type": "stream",
          "name": "stdout",
          "text": [
            "6 7 8 9 10 12\n",
            "[6, 8, 10, 12]\n"
          ]
        }
      ]
    },
    {
      "cell_type": "markdown",
      "metadata": {
        "id": "f50FsrnH2t8V"
      },
      "source": [
        "9. scrivere una funzione ricorsiva per calcolare l'elevamento a potenza di un numero intero. La funzione ha due paramentri: numero ed esponente"
      ]
    },
    {
      "cell_type": "code",
      "metadata": {
        "colab": {
          "base_uri": "https://localhost:8080/"
        },
        "id": "7iEOPX0CJtht",
        "outputId": "b76991b9-be16-4f28-83a2-92a5ef513638"
      },
      "source": [
        "def rec(num,pot):\n",
        "  if pot == 0:\n",
        "        return 1\n",
        "  elif pot >= 1:\n",
        "    return num*rec(num,pot - 1)\n",
        "rec(2,16)"
      ],
      "execution_count": null,
      "outputs": [
        {
          "output_type": "execute_result",
          "data": {
            "text/plain": [
              "65536"
            ]
          },
          "metadata": {},
          "execution_count": 19
        }
      ]
    }
  ]
}