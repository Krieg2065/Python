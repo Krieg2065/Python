{
  "cells": [
    {
      "cell_type": "markdown",
      "metadata": {
        "id": "view-in-github",
        "colab_type": "text"
      },
      "source": [
        "<a href=\"https://colab.research.google.com/github/Krieg2065/Python/blob/main/ELSHERBINI_M_GTL_Job_Placement_Classification_(FINAL_LAB).ipynb\" target=\"_parent\"><img src=\"https://colab.research.google.com/assets/colab-badge.svg\" alt=\"Open In Colab\"/></a>"
      ]
    },
    {
      "cell_type": "markdown",
      "metadata": {
        "id": "Xga723vG_qNs"
      },
      "source": [
        "# Classification Final Code Lab: Job Hiring Prediction\n",
        "\n",
        "Ciao students! I hope you all have learned a lot these last 3 weeks and have found the lessons/labs interesting.  \n",
        "\n",
        "In this final lab, you will build a KNN and Decision Tree model to predict whether or not a job applicant wil get hired based on thier application details (like amount of schooling, test scores, and work experience). \n",
        "\n",
        "Feel free to reference any of our past labs. Try to get as best accuracy as you can! But don't worry if the model is not too \"good\" (less than 80% accuracy). We care more about your understanding!!\n",
        "\n",
        "**Good luck!!!**"
      ]
    },
    {
      "cell_type": "code",
      "execution_count": 1,
      "metadata": {
        "id": "oCvWncqZi-4w",
        "colab": {
          "base_uri": "https://localhost:8080/"
        },
        "outputId": "f3df02ac-39b7-4479-a156-b120e1212ebe"
      },
      "outputs": [
        {
          "output_type": "stream",
          "name": "stdout",
          "text": [
            "GOAL: Predict whether a job applicant will get hired/placed (status) !\n"
          ]
        }
      ],
      "source": [
        "print(\"GOAL: Predict whether a job applicant will get hired/placed (status) !\") "
      ]
    },
    {
      "cell_type": "code",
      "execution_count": 3,
      "metadata": {
        "id": "iKB9E-2M2aRS"
      },
      "outputs": [],
      "source": [
        "import numpy as np\n",
        "import pandas as pd\n",
        "import matplotlib.pyplot as plt\n",
        "import seaborn as sns\n",
        "\n",
        "from sklearn.model_selection import train_test_split\n",
        "from sklearn import metrics\n",
        "\n",
        "##### TODO: import both the KNN and decision tree models from sklearn here!\n",
        "from sklearn.neighbors import KNeighborsClassifier \n",
        "from sklearn.tree import DecisionTreeClassifier "
      ]
    },
    {
      "cell_type": "code",
      "execution_count": 4,
      "metadata": {
        "id": "xLzqI8hx6D9u",
        "colab": {
          "base_uri": "https://localhost:8080/",
          "height": 374
        },
        "outputId": "82cdcedb-bd78-446b-8c09-ff8d8a5106c4"
      },
      "outputs": [
        {
          "output_type": "stream",
          "name": "stdout",
          "text": [
            "Dataset contains 215 total rows.\n",
            "Features are: Index(['gender', 'ssc_percentage', 'ssc_board', 'hsc_percentage', 'hsc_board',\n",
            "       'degree_percentage', 'work_experience', 'emp_test_percentage',\n",
            "       'mba_percent', 'status'],\n",
            "      dtype='object')\n"
          ]
        },
        {
          "output_type": "execute_result",
          "data": {
            "text/plain": [
              "  gender  ssc_percentage ssc_board  hsc_percentage hsc_board  \\\n",
              "0      M           67.00    Others           91.00    Others   \n",
              "1      M           79.33   Central           78.33    Others   \n",
              "2      M           65.00   Central           68.00   Central   \n",
              "3      M           56.00   Central           52.00   Central   \n",
              "4      M           85.80   Central           73.60   Central   \n",
              "\n",
              "   degree_percentage work_experience  emp_test_percentage  mba_percent  \\\n",
              "0              58.00              No                 55.0        58.80   \n",
              "1              77.48             Yes                 86.5        66.28   \n",
              "2              64.00              No                 75.0        57.80   \n",
              "3              52.00              No                 66.0        59.43   \n",
              "4              73.30              No                 96.8        55.50   \n",
              "\n",
              "       status  \n",
              "0      Placed  \n",
              "1      Placed  \n",
              "2      Placed  \n",
              "3  Not Placed  \n",
              "4      Placed  "
            ],
            "text/html": [
              "\n",
              "  <div id=\"df-53c65d00-f30d-4996-8f7a-8838597c116f\">\n",
              "    <div class=\"colab-df-container\">\n",
              "      <div>\n",
              "<style scoped>\n",
              "    .dataframe tbody tr th:only-of-type {\n",
              "        vertical-align: middle;\n",
              "    }\n",
              "\n",
              "    .dataframe tbody tr th {\n",
              "        vertical-align: top;\n",
              "    }\n",
              "\n",
              "    .dataframe thead th {\n",
              "        text-align: right;\n",
              "    }\n",
              "</style>\n",
              "<table border=\"1\" class=\"dataframe\">\n",
              "  <thead>\n",
              "    <tr style=\"text-align: right;\">\n",
              "      <th></th>\n",
              "      <th>gender</th>\n",
              "      <th>ssc_percentage</th>\n",
              "      <th>ssc_board</th>\n",
              "      <th>hsc_percentage</th>\n",
              "      <th>hsc_board</th>\n",
              "      <th>degree_percentage</th>\n",
              "      <th>work_experience</th>\n",
              "      <th>emp_test_percentage</th>\n",
              "      <th>mba_percent</th>\n",
              "      <th>status</th>\n",
              "    </tr>\n",
              "  </thead>\n",
              "  <tbody>\n",
              "    <tr>\n",
              "      <th>0</th>\n",
              "      <td>M</td>\n",
              "      <td>67.00</td>\n",
              "      <td>Others</td>\n",
              "      <td>91.00</td>\n",
              "      <td>Others</td>\n",
              "      <td>58.00</td>\n",
              "      <td>No</td>\n",
              "      <td>55.0</td>\n",
              "      <td>58.80</td>\n",
              "      <td>Placed</td>\n",
              "    </tr>\n",
              "    <tr>\n",
              "      <th>1</th>\n",
              "      <td>M</td>\n",
              "      <td>79.33</td>\n",
              "      <td>Central</td>\n",
              "      <td>78.33</td>\n",
              "      <td>Others</td>\n",
              "      <td>77.48</td>\n",
              "      <td>Yes</td>\n",
              "      <td>86.5</td>\n",
              "      <td>66.28</td>\n",
              "      <td>Placed</td>\n",
              "    </tr>\n",
              "    <tr>\n",
              "      <th>2</th>\n",
              "      <td>M</td>\n",
              "      <td>65.00</td>\n",
              "      <td>Central</td>\n",
              "      <td>68.00</td>\n",
              "      <td>Central</td>\n",
              "      <td>64.00</td>\n",
              "      <td>No</td>\n",
              "      <td>75.0</td>\n",
              "      <td>57.80</td>\n",
              "      <td>Placed</td>\n",
              "    </tr>\n",
              "    <tr>\n",
              "      <th>3</th>\n",
              "      <td>M</td>\n",
              "      <td>56.00</td>\n",
              "      <td>Central</td>\n",
              "      <td>52.00</td>\n",
              "      <td>Central</td>\n",
              "      <td>52.00</td>\n",
              "      <td>No</td>\n",
              "      <td>66.0</td>\n",
              "      <td>59.43</td>\n",
              "      <td>Not Placed</td>\n",
              "    </tr>\n",
              "    <tr>\n",
              "      <th>4</th>\n",
              "      <td>M</td>\n",
              "      <td>85.80</td>\n",
              "      <td>Central</td>\n",
              "      <td>73.60</td>\n",
              "      <td>Central</td>\n",
              "      <td>73.30</td>\n",
              "      <td>No</td>\n",
              "      <td>96.8</td>\n",
              "      <td>55.50</td>\n",
              "      <td>Placed</td>\n",
              "    </tr>\n",
              "  </tbody>\n",
              "</table>\n",
              "</div>\n",
              "      <button class=\"colab-df-convert\" onclick=\"convertToInteractive('df-53c65d00-f30d-4996-8f7a-8838597c116f')\"\n",
              "              title=\"Convert this dataframe to an interactive table.\"\n",
              "              style=\"display:none;\">\n",
              "        \n",
              "  <svg xmlns=\"http://www.w3.org/2000/svg\" height=\"24px\"viewBox=\"0 0 24 24\"\n",
              "       width=\"24px\">\n",
              "    <path d=\"M0 0h24v24H0V0z\" fill=\"none\"/>\n",
              "    <path d=\"M18.56 5.44l.94 2.06.94-2.06 2.06-.94-2.06-.94-.94-2.06-.94 2.06-2.06.94zm-11 1L8.5 8.5l.94-2.06 2.06-.94-2.06-.94L8.5 2.5l-.94 2.06-2.06.94zm10 10l.94 2.06.94-2.06 2.06-.94-2.06-.94-.94-2.06-.94 2.06-2.06.94z\"/><path d=\"M17.41 7.96l-1.37-1.37c-.4-.4-.92-.59-1.43-.59-.52 0-1.04.2-1.43.59L10.3 9.45l-7.72 7.72c-.78.78-.78 2.05 0 2.83L4 21.41c.39.39.9.59 1.41.59.51 0 1.02-.2 1.41-.59l7.78-7.78 2.81-2.81c.8-.78.8-2.07 0-2.86zM5.41 20L4 18.59l7.72-7.72 1.47 1.35L5.41 20z\"/>\n",
              "  </svg>\n",
              "      </button>\n",
              "      \n",
              "  <style>\n",
              "    .colab-df-container {\n",
              "      display:flex;\n",
              "      flex-wrap:wrap;\n",
              "      gap: 12px;\n",
              "    }\n",
              "\n",
              "    .colab-df-convert {\n",
              "      background-color: #E8F0FE;\n",
              "      border: none;\n",
              "      border-radius: 50%;\n",
              "      cursor: pointer;\n",
              "      display: none;\n",
              "      fill: #1967D2;\n",
              "      height: 32px;\n",
              "      padding: 0 0 0 0;\n",
              "      width: 32px;\n",
              "    }\n",
              "\n",
              "    .colab-df-convert:hover {\n",
              "      background-color: #E2EBFA;\n",
              "      box-shadow: 0px 1px 2px rgba(60, 64, 67, 0.3), 0px 1px 3px 1px rgba(60, 64, 67, 0.15);\n",
              "      fill: #174EA6;\n",
              "    }\n",
              "\n",
              "    [theme=dark] .colab-df-convert {\n",
              "      background-color: #3B4455;\n",
              "      fill: #D2E3FC;\n",
              "    }\n",
              "\n",
              "    [theme=dark] .colab-df-convert:hover {\n",
              "      background-color: #434B5C;\n",
              "      box-shadow: 0px 1px 3px 1px rgba(0, 0, 0, 0.15);\n",
              "      filter: drop-shadow(0px 1px 2px rgba(0, 0, 0, 0.3));\n",
              "      fill: #FFFFFF;\n",
              "    }\n",
              "  </style>\n",
              "\n",
              "      <script>\n",
              "        const buttonEl =\n",
              "          document.querySelector('#df-53c65d00-f30d-4996-8f7a-8838597c116f button.colab-df-convert');\n",
              "        buttonEl.style.display =\n",
              "          google.colab.kernel.accessAllowed ? 'block' : 'none';\n",
              "\n",
              "        async function convertToInteractive(key) {\n",
              "          const element = document.querySelector('#df-53c65d00-f30d-4996-8f7a-8838597c116f');\n",
              "          const dataTable =\n",
              "            await google.colab.kernel.invokeFunction('convertToInteractive',\n",
              "                                                     [key], {});\n",
              "          if (!dataTable) return;\n",
              "\n",
              "          const docLinkHtml = 'Like what you see? Visit the ' +\n",
              "            '<a target=\"_blank\" href=https://colab.research.google.com/notebooks/data_table.ipynb>data table notebook</a>'\n",
              "            + ' to learn more about interactive tables.';\n",
              "          element.innerHTML = '';\n",
              "          dataTable['output_type'] = 'display_data';\n",
              "          await google.colab.output.renderOutput(dataTable, element);\n",
              "          const docLink = document.createElement('div');\n",
              "          docLink.innerHTML = docLinkHtml;\n",
              "          element.appendChild(docLink);\n",
              "        }\n",
              "      </script>\n",
              "    </div>\n",
              "  </div>\n",
              "  "
            ]
          },
          "metadata": {},
          "execution_count": 4
        }
      ],
      "source": [
        "##### TODO: Use the data_url to import the data into dataset using read_csv()!\n",
        "data_url = 'https://raw.githubusercontent.com/pforderique/www.pforderique.com/main/server/data/datasets/hiring_dataset.csv'\n",
        "dataset = pd.read_csv(data_url)\n",
        "\n",
        "print(f'Dataset contains {len(dataset)} total rows.')\n",
        "print(f'Features are: {dataset.columns}')\n",
        "\n",
        "##### TODO: print the first few rows of dataset\n",
        "dataset.head()"
      ]
    },
    {
      "cell_type": "markdown",
      "source": [
        "## Preprocessing: Clean the Data \n",
        "\n",
        "Clean this dataset by replacing categorical data (gender, ssc_board, hsc_board, and work experience) with numerical data (0, 1, 2, ...).  \n",
        "\n",
        "**gender:** takes on 2 values - 'M' or 'F'  \n",
        "**ssc_board:** takes on 2 values - 'Central' or 'Others'  \n",
        "**hsc_board:** takes on 2 values - 'Central' or 'Others'  \n",
        "**work_experience:** takes on 2 values - 'Yes' or 'No'\n",
        "\n",
        "#### **Hint**  \n",
        "Use panda dataframe's ```replace()``` function from previous labs like the Titanic. Make sure to include the parameter ```inplace=True``` !"
      ],
      "metadata": {
        "id": "s-FYdYU46y_f"
      }
    },
    {
      "cell_type": "code",
      "source": [
        "#### TODO: replace all categorical data with numerical data\n",
        "# replace gender\n",
        "dataset.replace(to_replace = \"M\", value = 1,inplace=True)\n",
        "dataset.replace(to_replace = \"F\", value = 0,inplace=True)\n",
        "# replace ssc_board\n",
        "# replace hsc_board\n",
        "dataset.replace(to_replace = \"Central\", value = 1,inplace=True)\n",
        "dataset.replace(to_replace = \"Others\", value = 0,inplace=True)\n",
        "# replace work_experience\n",
        "dataset.replace(to_replace = \"Yes\", value = 1,inplace=True)\n",
        "dataset.replace(to_replace = \"No\", value = 0,inplace=True)\n",
        "\n",
        "\n",
        "# then, print first 5 rows to make sure we succeeded\n",
        "dataset.head(5)"
      ],
      "metadata": {
        "id": "rCy6JiMJ72DA",
        "colab": {
          "base_uri": "https://localhost:8080/",
          "height": 287
        },
        "outputId": "69e02a8f-e9f0-4be3-dbc2-d04500f206f8"
      },
      "execution_count": 7,
      "outputs": [
        {
          "output_type": "execute_result",
          "data": {
            "text/plain": [
              "   gender  ssc_percentage  ssc_board  hsc_percentage  hsc_board  \\\n",
              "0       1           67.00          0           91.00          0   \n",
              "1       1           79.33          1           78.33          0   \n",
              "2       1           65.00          1           68.00          1   \n",
              "3       1           56.00          1           52.00          1   \n",
              "4       1           85.80          1           73.60          1   \n",
              "\n",
              "   degree_percentage  work_experience  emp_test_percentage  mba_percent  \\\n",
              "0              58.00                0                 55.0        58.80   \n",
              "1              77.48                1                 86.5        66.28   \n",
              "2              64.00                0                 75.0        57.80   \n",
              "3              52.00                0                 66.0        59.43   \n",
              "4              73.30                0                 96.8        55.50   \n",
              "\n",
              "       status  \n",
              "0      Placed  \n",
              "1      Placed  \n",
              "2      Placed  \n",
              "3  Not Placed  \n",
              "4      Placed  "
            ],
            "text/html": [
              "\n",
              "  <div id=\"df-24855ad0-8182-436d-b5a2-bd8510ae3495\">\n",
              "    <div class=\"colab-df-container\">\n",
              "      <div>\n",
              "<style scoped>\n",
              "    .dataframe tbody tr th:only-of-type {\n",
              "        vertical-align: middle;\n",
              "    }\n",
              "\n",
              "    .dataframe tbody tr th {\n",
              "        vertical-align: top;\n",
              "    }\n",
              "\n",
              "    .dataframe thead th {\n",
              "        text-align: right;\n",
              "    }\n",
              "</style>\n",
              "<table border=\"1\" class=\"dataframe\">\n",
              "  <thead>\n",
              "    <tr style=\"text-align: right;\">\n",
              "      <th></th>\n",
              "      <th>gender</th>\n",
              "      <th>ssc_percentage</th>\n",
              "      <th>ssc_board</th>\n",
              "      <th>hsc_percentage</th>\n",
              "      <th>hsc_board</th>\n",
              "      <th>degree_percentage</th>\n",
              "      <th>work_experience</th>\n",
              "      <th>emp_test_percentage</th>\n",
              "      <th>mba_percent</th>\n",
              "      <th>status</th>\n",
              "    </tr>\n",
              "  </thead>\n",
              "  <tbody>\n",
              "    <tr>\n",
              "      <th>0</th>\n",
              "      <td>1</td>\n",
              "      <td>67.00</td>\n",
              "      <td>0</td>\n",
              "      <td>91.00</td>\n",
              "      <td>0</td>\n",
              "      <td>58.00</td>\n",
              "      <td>0</td>\n",
              "      <td>55.0</td>\n",
              "      <td>58.80</td>\n",
              "      <td>Placed</td>\n",
              "    </tr>\n",
              "    <tr>\n",
              "      <th>1</th>\n",
              "      <td>1</td>\n",
              "      <td>79.33</td>\n",
              "      <td>1</td>\n",
              "      <td>78.33</td>\n",
              "      <td>0</td>\n",
              "      <td>77.48</td>\n",
              "      <td>1</td>\n",
              "      <td>86.5</td>\n",
              "      <td>66.28</td>\n",
              "      <td>Placed</td>\n",
              "    </tr>\n",
              "    <tr>\n",
              "      <th>2</th>\n",
              "      <td>1</td>\n",
              "      <td>65.00</td>\n",
              "      <td>1</td>\n",
              "      <td>68.00</td>\n",
              "      <td>1</td>\n",
              "      <td>64.00</td>\n",
              "      <td>0</td>\n",
              "      <td>75.0</td>\n",
              "      <td>57.80</td>\n",
              "      <td>Placed</td>\n",
              "    </tr>\n",
              "    <tr>\n",
              "      <th>3</th>\n",
              "      <td>1</td>\n",
              "      <td>56.00</td>\n",
              "      <td>1</td>\n",
              "      <td>52.00</td>\n",
              "      <td>1</td>\n",
              "      <td>52.00</td>\n",
              "      <td>0</td>\n",
              "      <td>66.0</td>\n",
              "      <td>59.43</td>\n",
              "      <td>Not Placed</td>\n",
              "    </tr>\n",
              "    <tr>\n",
              "      <th>4</th>\n",
              "      <td>1</td>\n",
              "      <td>85.80</td>\n",
              "      <td>1</td>\n",
              "      <td>73.60</td>\n",
              "      <td>1</td>\n",
              "      <td>73.30</td>\n",
              "      <td>0</td>\n",
              "      <td>96.8</td>\n",
              "      <td>55.50</td>\n",
              "      <td>Placed</td>\n",
              "    </tr>\n",
              "  </tbody>\n",
              "</table>\n",
              "</div>\n",
              "      <button class=\"colab-df-convert\" onclick=\"convertToInteractive('df-24855ad0-8182-436d-b5a2-bd8510ae3495')\"\n",
              "              title=\"Convert this dataframe to an interactive table.\"\n",
              "              style=\"display:none;\">\n",
              "        \n",
              "  <svg xmlns=\"http://www.w3.org/2000/svg\" height=\"24px\"viewBox=\"0 0 24 24\"\n",
              "       width=\"24px\">\n",
              "    <path d=\"M0 0h24v24H0V0z\" fill=\"none\"/>\n",
              "    <path d=\"M18.56 5.44l.94 2.06.94-2.06 2.06-.94-2.06-.94-.94-2.06-.94 2.06-2.06.94zm-11 1L8.5 8.5l.94-2.06 2.06-.94-2.06-.94L8.5 2.5l-.94 2.06-2.06.94zm10 10l.94 2.06.94-2.06 2.06-.94-2.06-.94-.94-2.06-.94 2.06-2.06.94z\"/><path d=\"M17.41 7.96l-1.37-1.37c-.4-.4-.92-.59-1.43-.59-.52 0-1.04.2-1.43.59L10.3 9.45l-7.72 7.72c-.78.78-.78 2.05 0 2.83L4 21.41c.39.39.9.59 1.41.59.51 0 1.02-.2 1.41-.59l7.78-7.78 2.81-2.81c.8-.78.8-2.07 0-2.86zM5.41 20L4 18.59l7.72-7.72 1.47 1.35L5.41 20z\"/>\n",
              "  </svg>\n",
              "      </button>\n",
              "      \n",
              "  <style>\n",
              "    .colab-df-container {\n",
              "      display:flex;\n",
              "      flex-wrap:wrap;\n",
              "      gap: 12px;\n",
              "    }\n",
              "\n",
              "    .colab-df-convert {\n",
              "      background-color: #E8F0FE;\n",
              "      border: none;\n",
              "      border-radius: 50%;\n",
              "      cursor: pointer;\n",
              "      display: none;\n",
              "      fill: #1967D2;\n",
              "      height: 32px;\n",
              "      padding: 0 0 0 0;\n",
              "      width: 32px;\n",
              "    }\n",
              "\n",
              "    .colab-df-convert:hover {\n",
              "      background-color: #E2EBFA;\n",
              "      box-shadow: 0px 1px 2px rgba(60, 64, 67, 0.3), 0px 1px 3px 1px rgba(60, 64, 67, 0.15);\n",
              "      fill: #174EA6;\n",
              "    }\n",
              "\n",
              "    [theme=dark] .colab-df-convert {\n",
              "      background-color: #3B4455;\n",
              "      fill: #D2E3FC;\n",
              "    }\n",
              "\n",
              "    [theme=dark] .colab-df-convert:hover {\n",
              "      background-color: #434B5C;\n",
              "      box-shadow: 0px 1px 3px 1px rgba(0, 0, 0, 0.15);\n",
              "      filter: drop-shadow(0px 1px 2px rgba(0, 0, 0, 0.3));\n",
              "      fill: #FFFFFF;\n",
              "    }\n",
              "  </style>\n",
              "\n",
              "      <script>\n",
              "        const buttonEl =\n",
              "          document.querySelector('#df-24855ad0-8182-436d-b5a2-bd8510ae3495 button.colab-df-convert');\n",
              "        buttonEl.style.display =\n",
              "          google.colab.kernel.accessAllowed ? 'block' : 'none';\n",
              "\n",
              "        async function convertToInteractive(key) {\n",
              "          const element = document.querySelector('#df-24855ad0-8182-436d-b5a2-bd8510ae3495');\n",
              "          const dataTable =\n",
              "            await google.colab.kernel.invokeFunction('convertToInteractive',\n",
              "                                                     [key], {});\n",
              "          if (!dataTable) return;\n",
              "\n",
              "          const docLinkHtml = 'Like what you see? Visit the ' +\n",
              "            '<a target=\"_blank\" href=https://colab.research.google.com/notebooks/data_table.ipynb>data table notebook</a>'\n",
              "            + ' to learn more about interactive tables.';\n",
              "          element.innerHTML = '';\n",
              "          dataTable['output_type'] = 'display_data';\n",
              "          await google.colab.output.renderOutput(dataTable, element);\n",
              "          const docLink = document.createElement('div');\n",
              "          docLink.innerHTML = docLinkHtml;\n",
              "          element.appendChild(docLink);\n",
              "        }\n",
              "      </script>\n",
              "    </div>\n",
              "  </div>\n",
              "  "
            ]
          },
          "metadata": {},
          "execution_count": 7
        }
      ]
    },
    {
      "cell_type": "markdown",
      "metadata": {
        "id": "0pDaMUm4JNyO"
      },
      "source": [
        "### Checking for outliers and imbalanced data"
      ]
    },
    {
      "cell_type": "code",
      "execution_count": 8,
      "metadata": {
        "id": "bCz9sMTeHyk2",
        "colab": {
          "base_uri": "https://localhost:8080/",
          "height": 296
        },
        "outputId": "17731632-b09f-4fed-8533-413f5b27a904"
      },
      "outputs": [
        {
          "output_type": "execute_result",
          "data": {
            "text/plain": [
              "<matplotlib.axes._subplots.AxesSubplot at 0x7fb599a8ff10>"
            ]
          },
          "metadata": {},
          "execution_count": 8
        },
        {
          "output_type": "display_data",
          "data": {
            "text/plain": [
              "<Figure size 432x288 with 1 Axes>"
            ],
            "image/png": "[encoded data removed]"
          },
          "metadata": {
            "needs_background": "light"
          }
        }
      ],
      "source": [
        "##### TODO: plot the target column to see how balanced the data is for each category\n",
        "# hint: which column are we trying to predict?\n",
        "sns.countplot(x='status', data=dataset)"
      ]
    },
    {
      "cell_type": "markdown",
      "metadata": {
        "id": "FAYCzmtcQHol"
      },
      "source": [
        "### Plotting a graph of the data"
      ]
    },
    {
      "cell_type": "code",
      "execution_count": 28,
      "metadata": {
        "id": "sXSKcbZ0PeHx",
        "colab": {
          "base_uri": "https://localhost:8080/",
          "height": 297
        },
        "outputId": "b2ca2a09-416e-4ea0-d625-d29aa6b6674d"
      },
      "outputs": [
        {
          "output_type": "execute_result",
          "data": {
            "text/plain": [
              "<matplotlib.axes._subplots.AxesSubplot at 0x7fb598d7c8e0>"
            ]
          },
          "metadata": {},
          "execution_count": 28
        },
        {
          "output_type": "display_data",
          "data": {
            "text/plain": [
              "<Figure size 432x288 with 1 Axes>"
            ],
            "image/png": "[encoded data removed]"
          },
          "metadata": {
            "needs_background": "light"
          }
        }
      ],
      "source": [
        "##### TODO: select 2 features you think could be important and plot a 2D graph of the data\n",
        "sns.scatterplot(x='work_experience', y='ssc_percentage', data=dataset, hue='status', palette=\"deep\")"
      ]
    },
    {
      "cell_type": "markdown",
      "metadata": {
        "id": "ATmOfn96JXSC"
      },
      "source": [
        "### Separating features and target"
      ]
    },
    {
      "cell_type": "code",
      "execution_count": 45,
      "metadata": {
        "id": "7F-21a1E7lkG"
      },
      "outputs": [],
      "source": [
        "### TODO: split data into X and y\n",
        "\n",
        "# X variable contains only the features (no target value)\n",
        "# Y variable contains only target value (no features)\n",
        "\n",
        "# X variable contains features\n",
        "# Y variable contains target value\n",
        "X = dataset.drop(['status'], axis=1)\n",
        "y = dataset['status']"
      ]
    },
    {
      "cell_type": "markdown",
      "metadata": {
        "id": "Fw1VXlonJbr4"
      },
      "source": [
        "### Split the dataset into train and test sets"
      ]
    },
    {
      "cell_type": "code",
      "execution_count": 51,
      "metadata": {
        "id": "tGa_U8re6HL5"
      },
      "outputs": [],
      "source": [
        "##### TODO: use an 80, 20 training/testing split\n",
        "\n",
        "testing_size = 0.2\n",
        "\n",
        "X_train, X_test, y_train, y_test = train_test_split(X, y, test_size=testing_size)"
      ]
    },
    {
      "cell_type": "markdown",
      "metadata": {
        "id": "2DZ5WBbxIQWr"
      },
      "source": [
        "## Building a KNN Classifier"
      ]
    },
    {
      "cell_type": "markdown",
      "metadata": {
        "id": "mD9ZdQsIJi4m"
      },
      "source": [
        "### Initial model"
      ]
    },
    {
      "cell_type": "code",
      "execution_count": 54,
      "metadata": {
        "id": "VkrgZD9RHHqA",
        "colab": {
          "base_uri": "https://localhost:8080/"
        },
        "outputId": "471eeec8-ead2-4e6a-86c7-5bafbe1dc188"
      },
      "outputs": [
        {
          "output_type": "stream",
          "name": "stdout",
          "text": [
            "Accuracy Score is : 0.9534883720930233\n"
          ]
        }
      ],
      "source": [
        "##### TODO: Create Initial nearest neighbor model with a random K,\n",
        "### then train the model,\n",
        "### then print the accuracy\n",
        "K = 3\n",
        "model =  KNeighborsClassifier(n_neighbors=K)\n",
        "model.fit(X_train, y_train)\n",
        "y_pred = model.predict(X_test)\n",
        "accuracy = metrics.accuracy_score(y_test, y_pred)\n",
        "print(\"Accuracy Score is :\" , accuracy)"
      ]
    },
    {
      "cell_type": "markdown",
      "metadata": {
        "id": "0RYj_edx9auN"
      },
      "source": [
        "### Finding a good K value"
      ]
    },
    {
      "cell_type": "code",
      "execution_count": 53,
      "metadata": {
        "id": "wpe5_XL69fPJ",
        "colab": {
          "base_uri": "https://localhost:8080/",
          "height": 295
        },
        "outputId": "0244656f-cfd2-4cc9-cea5-3f6542ea8bce"
      },
      "outputs": [
        {
          "output_type": "display_data",
          "data": {
            "text/plain": [
              "<Figure size 432x288 with 1 Axes>"
            ],
            "image/png": "[encoded data removed]"
          },
          "metadata": {
            "needs_background": "light"
          }
        }
      ],
      "source": [
        "##### TODO: find the best K value\n",
        "\n",
        "# checking accuracy score for k-value ranging from 1 to 30\n",
        "k_range = list(range(1, 20))\n",
        "scores = []\n",
        "\n",
        "# model fitting and calculating accuracy score\n",
        "# for each k-value in the range 1-30\n",
        "for k in k_range:\n",
        "    model = KNeighborsClassifier(n_neighbors=k) # Create and train using this k\n",
        "    model.fit(X_train, y_train)\n",
        "    y_pred = model.predict(X_test)\n",
        "    accuracy = metrics.accuracy_score(y_test, y_pred)\n",
        "    scores.append(accuracy) # find the accuracy\n",
        "    pass\n",
        "\n",
        "# plot accuracies for each k value\n",
        "plt.plot(k_range, scores)\n",
        "plt.xlabel('Value of k')\n",
        "plt.ylabel('Accuracy Score')\n",
        "plt.title('Accuracy Scores for different values of k')\n",
        "plt.show()"
      ]
    },
    {
      "cell_type": "markdown",
      "metadata": {
        "id": "v6HC6Upq9t6H"
      },
      "source": [
        "### Accuracy for optimal K"
      ]
    },
    {
      "cell_type": "code",
      "execution_count": 55,
      "metadata": {
        "id": "FdNyt8o39wrZ",
        "colab": {
          "base_uri": "https://localhost:8080/"
        },
        "outputId": "ea8b452f-bfbf-4375-b8f9-0a92f1075449"
      },
      "outputs": [
        {
          "output_type": "stream",
          "name": "stdout",
          "text": [
            "Accuracy Score is : 0.9534883720930233\n"
          ]
        }
      ],
      "source": [
        "##### TODO: choose the optimal k-value for this dataset based on the graph above,\n",
        "### then create nearest neighbor model with a optimal K,\n",
        "### then train the model,\n",
        "### then print the accuracy\n",
        "optimal_K = 3\n",
        "model =  KNeighborsClassifier(n_neighbors=optimal_K)\n",
        "model.fit(X_train, y_train)\n",
        "y_pred = model.predict(X_test)\n",
        "accuracy = metrics.accuracy_score(y_test, y_pred)\n",
        "print(\"Accuracy Score is :\" , accuracy)"
      ]
    },
    {
      "cell_type": "markdown",
      "metadata": {
        "id": "m5oPYWlNJ7vP"
      },
      "source": [
        "### Predicting class of new data"
      ]
    },
    {
      "cell_type": "code",
      "execution_count": 73,
      "metadata": {
        "id": "BTFUxtpaCrbO",
        "colab": {
          "base_uri": "https://localhost:8080/"
        },
        "outputId": "d1286468-6114-429a-8657-670d995b07d0"
      },
      "outputs": [
        {
          "output_type": "stream",
          "name": "stdout",
          "text": [
            "prediction: ['Not Placed']\n"
          ]
        },
        {
          "output_type": "stream",
          "name": "stderr",
          "text": [
            "/usr/local/lib/python3.8/dist-packages/sklearn/base.py:450: UserWarning: X does not have valid feature names, but KNeighborsClassifier was fitted with feature names\n",
            "  warnings.warn(\n"
          ]
        }
      ],
      "source": [
        "##### TODO: use ALL of the data (X and y, instead of X_train and y_train)\n",
        "### to train the model this time\n",
        "model =  KNeighborsClassifier(n_neighbors=optimal_K)\n",
        "model.fit(X, y)\n",
        "\n",
        "# create your own new data to be classified\n",
        "# remember it needs to have as many inputs as there are features\n",
        "X_new = np.array([[1,\t67.00,\t1,\t91.00,\t1,\t58.00,\t1,\t0.00,\t0.00]])\n",
        "prediction = model.predict(X_new) ##### TODO: call predict() to make a prediction!\n",
        "\n",
        "print('prediction:', prediction)"
      ]
    },
    {
      "cell_type": "markdown",
      "metadata": {
        "id": "N2Guml4W-Rvb"
      },
      "source": [
        "## Building a Decision Tree Classifier"
      ]
    },
    {
      "cell_type": "code",
      "execution_count": 74,
      "metadata": {
        "id": "yJ0YPcNFIWsF",
        "colab": {
          "base_uri": "https://localhost:8080/"
        },
        "outputId": "95123b4b-2d86-4dc1-d568-51c83984cf0a"
      },
      "outputs": [
        {
          "output_type": "stream",
          "name": "stdout",
          "text": [
            "Accuracy Score is : 0.8837209302325582\n"
          ]
        }
      ],
      "source": [
        "##### TODO: Build Initial Decision Tree model, using `entropy` criterion and \n",
        "### max_depth of 1. Then print the accuracy of this model.\n",
        "model= DecisionTreeClassifier(criterion='entropy', max_depth=None)\n",
        "model.fit(X_train, y_train)\n",
        "y_pred = model.predict(X_test)\n",
        "accuracy = metrics.accuracy_score(y_test, y_pred)\n",
        "print(\"Accuracy Score is :\" , accuracy)"
      ]
    },
    {
      "cell_type": "markdown",
      "metadata": {
        "id": "xzRZpz_X-ZJY"
      },
      "source": [
        "### Visualizing the Tree"
      ]
    },
    {
      "cell_type": "code",
      "execution_count": 75,
      "metadata": {
        "id": "yGK7JPRlXoZr",
        "colab": {
          "base_uri": "https://localhost:8080/",
          "height": 640
        },
        "outputId": "54366e21-d526-456d-ffbc-aff85af48529"
      },
      "outputs": [
        {
          "output_type": "stream",
          "name": "stdout",
          "text": [
            "Final Decision Tree\n",
            "x[0] = gender\n",
            "x[1] = ssc_percentage\n",
            "x[2] = ssc_board\n",
            "x[3] = hsc_percentage\n",
            "x[4] = hsc_board\n",
            "x[5] = degree_percentage\n",
            "x[6] = work_experience\n",
            "x[7] = emp_test_percentage\n",
            "x[8] = mba_percent\n"
          ]
        },
        {
          "output_type": "display_data",
          "data": {
            "text/plain": [
              "<Figure size 864x576 with 1 Axes>"
            ],
            "image/png": "[encoded data removed]"
          },
          "metadata": {
            "needs_background": "light"
          }
        }
      ],
      "source": [
        "from sklearn import tree\n",
        "\n",
        "plt.figure(figsize=(12,8))\n",
        "tree.plot_tree(model)\n",
        "print(\"Final Decision Tree\")\n",
        "\n",
        "for idx, feature in enumerate(X.columns):\n",
        "  print(f'x[{idx}] = {feature}')"
      ]
    },
    {
      "cell_type": "markdown",
      "metadata": {
        "id": "IzecATvv_bhT"
      },
      "source": [
        "### Can we do better?\n",
        "\n",
        "Rerun the last two cells with different parameters for the max_depth value. Can you achieve a model with better accuracy?\n",
        "\n",
        "For example, try\n",
        "```max_depth=3``` or ```max_depth=5``` or ```max_depth=None```\n",
        "\n",
        "Notice how the visualization of the tree changes as you allow for more or fewer levels in the tree!"
      ]
    },
    {
      "cell_type": "code",
      "execution_count": 67,
      "metadata": {
        "id": "EgLk9y6M6x_m",
        "colab": {
          "base_uri": "https://localhost:8080/"
        },
        "outputId": "0bc33d39-b494-4573-fe88-b78f180cce3b"
      },
      "outputs": [
        {
          "output_type": "stream",
          "name": "stdout",
          "text": [
            "prediction: ['Placed']\n",
            "Accuracy Score is : 0.813953488372093\n"
          ]
        },
        {
          "output_type": "stream",
          "name": "stderr",
          "text": [
            "/usr/local/lib/python3.8/dist-packages/sklearn/base.py:450: UserWarning: X does not have valid feature names, but DecisionTreeClassifier was fitted with feature names\n",
            "  warnings.warn(\n"
          ]
        }
      ],
      "source": [
        "##### TODO: use ALL of the data (X and y, instead of X_train and y_train)\n",
        "### to train the model this time\n",
        "model= DecisionTreeClassifier(criterion='entropy', max_depth=2)\n",
        "model.fit(X, y)\n",
        "\n",
        "\n",
        "# create your own new data to be classified\n",
        "# remember it needs to have as many inputs as there are features\n",
        "X_new = np.array([[0,\t67.00,\t1,\t91.00,\t1,\t58.00,\t1,\t55.00,\t58.80]])\n",
        "prediction = model.predict(X_new) ##### TODO: call predict() to make a prediction!\n",
        "\n",
        "print('prediction:', prediction)\n",
        "print(\"Accuracy Score is :\" , accuracy)"
      ]
    },
    {
      "cell_type": "code",
      "source": [
        "from sklearn.metrics import confusion_matrix\n",
        "\n",
        "y_pred = model.predict(X_test)\n",
        "conf_mat = confusion_matrix(y_test, y_pred)\n",
        "sns.heatmap(conf_mat, annot = True, fmt = \"d\")\n",
        "plt.xlabel(\"Predicted Label\")\n",
        "plt.ylabel(\"True Label\")\n",
        "plt.show()"
      ],
      "metadata": {
        "colab": {
          "base_uri": "https://localhost:8080/",
          "height": 279
        },
        "id": "bctrrYJqH_kk",
        "outputId": "28d5ca83-fa4b-4fdc-c214-1747131e6f14"
      },
      "execution_count": 33,
      "outputs": [
        {
          "output_type": "display_data",
          "data": {
            "text/plain": [
              "<Figure size 432x288 with 2 Axes>"
            ],
            "image/png": "[encoded data removed]"
          },
          "metadata": {
            "needs_background": "light"
          }
        }
      ]
    },
    {
      "cell_type": "code",
      "execution_count": 44,
      "metadata": {
        "id": "MSVlPidbkhC6",
        "colab": {
          "base_uri": "https://localhost:8080/"
        },
        "outputId": "69750a83-ca98-4e5b-91a2-e108218e8d9a"
      },
      "outputs": [
        {
          "output_type": "stream",
          "name": "stdout",
          "text": [
            "              precision    recall  f1-score   support\n",
            "\n",
            "  Not Placed       0.80      0.36      0.50        11\n",
            "      Placed       0.82      0.97      0.89        32\n",
            "\n",
            "    accuracy                           0.81        43\n",
            "   macro avg       0.81      0.67      0.69        43\n",
            "weighted avg       0.81      0.81      0.79        43\n",
            "\n"
          ]
        }
      ],
      "source": [
        "from sklearn.metrics import classification_report\n",
        "class_report = classification_report(y_test, y_pred) #2 * (recal * precision) / (recal + precision)\n",
        "        \n",
        "print(class_report)"
      ]
    }
  ],
  "metadata": {
    "colab": {
      "provenance": [],
      "include_colab_link": true
    },
    "kernelspec": {
      "display_name": "Python 3",
      "name": "python3"
    }
  },
  "nbformat": 4,
  "nbformat_minor": 0
}