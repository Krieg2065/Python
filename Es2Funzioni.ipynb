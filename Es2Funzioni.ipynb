{
  "nbformat": 4,
  "nbformat_minor": 0,
  "metadata": {
    "colab": {
      "name": "Untitled3.ipynb",
      "provenance": []
    },
    "kernelspec": {
      "name": "python3",
      "display_name": "Python 3"
    },
    "language_info": {
      "name": "python"
    }
  },
  "cells": [
    {
      "cell_type": "markdown",
      "metadata": {
        "id": "4kMKTLURj3H1"
      },
      "source": [
        "1. scrivere una funzione chiamata max che dati due numeri restituisca il più grande. Scrivere poi un programma che, utilizzando la funzione creata, trovi il massimo tra tre numeri inseriti dall'utente. \n"
      ]
    },
    {
      "cell_type": "code",
      "metadata": {
        "colab": {
          "base_uri": "https://localhost:8080/"
        },
        "id": "E4wQSSyUi7Xb",
        "outputId": "42193b8e-bbb4-4ebb-cddd-68f6aaa0606f"
      },
      "source": [
        "def max(a,b):\n",
        "  if a > b:\n",
        "    return a\n",
        "  else:\n",
        "    return b\n",
        "a,b,c = int(input()),int(input()),int(input())\n",
        "max(a,max(b,c))"
      ],
      "execution_count": 1,
      "outputs": [
        {
          "name": "stdout",
          "output_type": "stream",
          "text": [
            "7\n",
            "8\n",
            "4\n"
          ]
        },
        {
          "output_type": "execute_result",
          "data": {
            "text/plain": [
              "8"
            ]
          },
          "metadata": {},
          "execution_count": 1
        }
      ]
    },
    {
      "cell_type": "markdown",
      "metadata": {
        "id": "k1KHCSrDj6uL"
      },
      "source": [
        "2. scrivere una funzione chiamata sommaLista che data una lista di interi restituisca la somma di tutti gli elementi della lista. Scrivere poi un programma che, utilizzando la funzione create, trovi la somma degli elementi di una lista inserita dall'utente. "
      ]
    },
    {
      "cell_type": "code",
      "metadata": {
        "colab": {
          "base_uri": "https://localhost:8080/"
        },
        "id": "TXiHBZwEj8oD",
        "outputId": "d0c0b192-d20b-4d74-f04f-2c55fe1459a6"
      },
      "source": [
        "def SommaLista(lst):\n",
        "  tott = 0\n",
        "  for i in lst:\n",
        "    tott = tott + i\n",
        "  return tott\n",
        "\n",
        "lista = list(map(int,input().split()))\n",
        "SommaLista(lista)"
      ],
      "execution_count": 6,
      "outputs": [
        {
          "name": "stdout",
          "output_type": "stream",
          "text": [
            "7 7 7 7 \n"
          ]
        },
        {
          "output_type": "execute_result",
          "data": {
            "text/plain": [
              "28"
            ]
          },
          "metadata": {},
          "execution_count": 6
        }
      ]
    },
    {
      "cell_type": "markdown",
      "metadata": {
        "id": "8i2ZPngHk6ng"
      },
      "source": [
        "3. utilizzando le funzioni create precedentemente, scrivere un programma che permetta all'utente di inserire tre liste e di avere il valore massimo della somma degli elementi delle tre liste."
      ]
    },
    {
      "cell_type": "code",
      "metadata": {
        "colab": {
          "base_uri": "https://localhost:8080/"
        },
        "id": "zpKiofMSkYTb",
        "outputId": "7c744643-b0d6-4213-c042-4079497d255b"
      },
      "source": [
        "num1 = SommaLista(list(map(int,input().split())))\n",
        "num2 = SommaLista(list(map(int,input().split())))\n",
        "num3 = SommaLista(list(map(int,input().split())))\n",
        "\n",
        "max(num1,max(num2,num3))"
      ],
      "execution_count": 13,
      "outputs": [
        {
          "name": "stdout",
          "output_type": "stream",
          "text": [
            "7 9 83 4\n",
            "483 92 83 4\n",
            "382 392 3 93\n"
          ]
        },
        {
          "output_type": "execute_result",
          "data": {
            "text/plain": [
              "870"
            ]
          },
          "metadata": {},
          "execution_count": 13
        }
      ]
    },
    {
      "cell_type": "markdown",
      "metadata": {
        "id": "6KER8Nxgn06g"
      },
      "source": [
        "scrivere una funzione chiamata controlla che dato un numero e due estremi restituisca True se il numero è compreso tra i due estremi, false altrimenti. Utilizzare poi la funzione per trovare il numero di elementi di una lista di numeri interi (inserita dall'utente) compresi tra due estremi (inseriti anch'essi dall'utente)"
      ]
    },
    {
      "cell_type": "code",
      "metadata": {
        "colab": {
          "base_uri": "https://localhost:8080/"
        },
        "id": "0gsb2TnRn1qE",
        "outputId": "cd00b4a5-e736-4ef7-e606-7bf3b6d74b05"
      },
      "source": [
        "def controlla(c,x,y):\n",
        "  return x <= c <= y\n",
        "  \n",
        "lista = list(map(int,input().split()))\n",
        "a,b = int(input()),int(input())\n",
        "for i in lista:\n",
        "  print(controlla(i,a,b))"
      ],
      "execution_count": 20,
      "outputs": [
        {
          "output_type": "stream",
          "name": "stdout",
          "text": [
            "38 74 83 743 498 4\n",
            "1\n",
            "100\n",
            "True\n",
            "True\n",
            "True\n",
            "False\n",
            "False\n",
            "True\n"
          ]
        }
      ]
    },
    {
      "cell_type": "markdown",
      "metadata": {
        "id": "WcHbO8HYplzk"
      },
      "source": [
        "5. utilizzare la funzione controlla creata precedentemente per scrivere un programma che, data una lista di numeri interi inserita  dall'utente, carichi in un'altra lista i numeri compresi tra due estremi inseriti anch'essi dall'utente."
      ]
    },
    {
      "cell_type": "code",
      "metadata": {
        "colab": {
          "base_uri": "https://localhost:8080/"
        },
        "id": "eQdjODHKpGj7",
        "outputId": "a076b7ed-55c9-4e99-a789-bbccc57b7ee3"
      },
      "source": [
        "def controlla(c,x,y):\n",
        "  return x <= c <= y\n",
        "  \n",
        "lista = list(map(int,input().split()))\n",
        "lista2 = []\n",
        "a,b = int(input()),int(input())\n",
        "for i in lista:\n",
        "  if controlla(i,a,b) == True:\n",
        "    lista2.append(i)\n",
        "print(lista2)"
      ],
      "execution_count": 23,
      "outputs": [
        {
          "output_type": "stream",
          "name": "stdout",
          "text": [
            "758 73 7323 839 83 32 35\n",
            "1\n",
            "100\n",
            "[73, 83, 32, 35]\n"
          ]
        }
      ]
    },
    {
      "cell_type": "markdown",
      "metadata": {
        "id": "S1dy4_9Fqblm"
      },
      "source": [
        "6. scrivere una funzione chiamata confrontaListe che date due liste restituisca True se le due liste sono uguali, False altrimenti. Utilizzare poi la funzione in un programma che dica se una lista di interi è palindroma, cioè se può essere letta indifferentemente da sinistra a destra e da destra a sinistra. Ad esempio la lista [1, 2, 3, 4, 3, 2, 1] è palindroma, la lista [1, 2, 3, 4, 3,1, 2] non lo è.\n"
      ]
    },
    {
      "cell_type": "code",
      "metadata": {
        "colab": {
          "base_uri": "https://localhost:8080/"
        },
        "id": "Pb030CPRqba-",
        "outputId": "0bd123f7-28e7-4854-8675-59f01c321dd9"
      },
      "source": [
        "def confrontaListe(lst1,lst2):\n",
        "  return lst1 ==lst2\n",
        "\n",
        "lst1 = list(map(int,input().split()))\n",
        "lst2 = lst1[::-1]\n",
        "if confrontaListe(lst1,lst2) == True:\n",
        "  print(lst1, 'è un polindromo')\n",
        "else:\n",
        "  print('non è un polindromo')"
      ],
      "execution_count": 26,
      "outputs": [
        {
          "output_type": "stream",
          "name": "stdout",
          "text": [
            "1 23 5 7 89\n",
            "non lo è\n"
          ]
        }
      ]
    },
    {
      "cell_type": "markdown",
      "metadata": {
        "id": "QpDMXdWerPa9"
      },
      "source": [
        "7. scrivere una funzione chiamata celsiusToFahrenheit che data una temperatura in gradi Celsius restituisca il valore convertito in gradi Fahrenheit (per ulteriori info, google it). Scrivere poi un programma che data una lista di temperature in gradi Celsius,inserita dall'utente, converta tutte le temperature in gradi Fahrenheit."
      ]
    },
    {
      "cell_type": "code",
      "metadata": {
        "colab": {
          "base_uri": "https://localhost:8080/"
        },
        "id": "0cCr8PNyrO2M",
        "outputId": "4d1a0cff-7608-473b-be72-63180735c4ad"
      },
      "source": [
        "def celsiusToFahrenheit(c):\n",
        "  return (c*9/5) + 32\n",
        "temp = list(map(int,input().split()))\n",
        "tempF = list(map(celsiusToFahrenheit,temp))\n",
        "print(tempF)"
      ],
      "execution_count": 28,
      "outputs": [
        {
          "output_type": "stream",
          "name": "stdout",
          "text": [
            "20 22 30 37 50\n",
            "[68.0, 71.6, 86.0, 98.6, 122.0]\n"
          ]
        }
      ]
    },
    {
      "cell_type": "markdown",
      "metadata": {
        "id": "sxovOaCOr8s8"
      },
      "source": [
        "8. scrivere una funzione chiamata IMC che calcoli l'Indice di Massa Corporea a partire dal peso (in kg) e dall'altezza (in m). Utilizzare poi la funzione per scrivere un programma che date tre liste, contenente la prima una serie di nomi, la seconda una serie di pesi e la terza una serie di altezze, produca una quarta lista contenente i valori di IMC corrispondenti. Visualizzare poi i risultati nel seguente modo: \"<nome> pesa <peso kg, misura <altezza> m ed ha un IMC di <IMC>\" ( i valori nelle parentesi angolari vanno presi ovviamente dalle liste)"
      ]
    },
    {
      "cell_type": "code",
      "metadata": {
        "colab": {
          "base_uri": "https://localhost:8080/"
        },
        "id": "21slxcKgr_gs",
        "outputId": "ee0dc6b4-a58f-42f4-c320-73ce343987b2"
      },
      "source": [
        "def IMC(kg,m):\n",
        "  bmi = kg/((m/100)*(m/100))\n",
        "  return bmi\n",
        "lista1 = list(input().split())\n",
        "lista2 = list(map(int,input().split()))\n",
        "lista3 = list(map(int,input().split()))\n",
        "lista4 = list(map(IMC,lista2,lista3))\n",
        "for n,kg,m,imc in zip(lista1,lista2,lista3,lista4):\n",
        "    print(n,\" pesa\",kg ,\"kg, misura \", m ,\" m ed ha un IMC di \",imc )"
      ],
      "execution_count": 33,
      "outputs": [
        {
          "output_type": "stream",
          "name": "stdout",
          "text": [
            "marco momi\n",
            "60 50\n",
            "160 175\n",
            "marco  pesa 60 kg, misura  160  m ed ha un IMC di  23.437499999999996\n",
            "momi  pesa 50 kg, misura  175  m ed ha un IMC di  16.3265306122449\n"
          ]
        }
      ]
    }
  ]
}