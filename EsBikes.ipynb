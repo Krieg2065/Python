{
  "nbformat": 4,
  "nbformat_minor": 0,
  "metadata": {
    "colab": {
      "name": "EsBikes.ipynb",
      "provenance": [],
      "collapsed_sections": []
    },
    "kernelspec": {
      "name": "python3",
      "display_name": "Python 3"
    },
    "language_info": {
      "name": "python"
    }
  },
  "cells": [
    {
      "cell_type": "markdown",
      "metadata": {
        "id": "DduoH5loHFKH"
      },
      "source": [
        "\n",
        "\n",
        "1. il catalogo complessivo dei prodotti. Visualizzare il nome del prodotto, il nome della marca e la categoria\n",
        "2. il numero di prodotti per ogni categoria. Visualizzare i nomi delle categorie e il numero dei prodotti.\n",
        "3. il numero di prodotti per ogni marca (brand). Visualizzare i nomi dei brand e il numero di prodotti\n",
        "4. i nomi dei prodotti della marca Trek\n",
        "5. i prodotti delle categorie che hanno la parola 'Bikes' nel nome\n",
        "6. la categoria che ha il prodotto che costa di più\n",
        "7. i brand con almeno 100 prodotti. Viaulizzare il nome del brand e il numero di prodotti\n",
        "8. la marca del prodotto 'Electra Townie Original 21D - 2016'\n",
        "9. il numero di prodotti per ogni anno. Visualizzare l'anno e il numero di prodotti\n"
      ]
    },
    {
      "cell_type": "markdown",
      "metadata": {
        "id": "9yL7a-5cKTWi"
      },
      "source": [
        "Visualizzare i grafici più adatti per le richieste 2, 3, 7 e 9"
      ]
    },
    {
      "cell_type": "code",
      "metadata": {
        "id": "lV5Q_NvBHE9q"
      },
      "source": [
        "import pandas as pd\n",
        "#brands 0\n",
        "#categories 1\n",
        "#products 2\n",
        "#stocks 3\n",
        "#costumers 4\n",
        "#order_items 5\n",
        "#orders 6\n",
        "#staffs 7 \n",
        "#stores 8\n",
        "brands = pd.read_excel('https://github.com/wtitze/4E/blob/main/BikeStores.xls?raw=true',sheet_name=0)"
      ],
      "execution_count": null,
      "outputs": []
    },
    {
      "cell_type": "code",
      "metadata": {
        "colab": {
          "base_uri": "https://localhost:8080/",
          "height": 332
        },
        "id": "-nb2-K3UKpCI",
        "outputId": "8a18cda6-a40c-4bff-9055-86e7059c6d65"
      },
      "source": [
        "brands"
      ],
      "execution_count": null,
      "outputs": [
        {
          "output_type": "execute_result",
          "data": {
            "text/html": [
              "<div>\n",
              "<style scoped>\n",
              "    .dataframe tbody tr th:only-of-type {\n",
              "        vertical-align: middle;\n",
              "    }\n",
              "\n",
              "    .dataframe tbody tr th {\n",
              "        vertical-align: top;\n",
              "    }\n",
              "\n",
              "    .dataframe thead th {\n",
              "        text-align: right;\n",
              "    }\n",
              "</style>\n",
              "<table border=\"1\" class=\"dataframe\">\n",
              "  <thead>\n",
              "    <tr style=\"text-align: right;\">\n",
              "      <th></th>\n",
              "      <th>brand_id</th>\n",
              "      <th>brand_name</th>\n",
              "    </tr>\n",
              "  </thead>\n",
              "  <tbody>\n",
              "    <tr>\n",
              "      <th>0</th>\n",
              "      <td>1</td>\n",
              "      <td>Electra</td>\n",
              "    </tr>\n",
              "    <tr>\n",
              "      <th>1</th>\n",
              "      <td>2</td>\n",
              "      <td>Haro</td>\n",
              "    </tr>\n",
              "    <tr>\n",
              "      <th>2</th>\n",
              "      <td>3</td>\n",
              "      <td>Heller</td>\n",
              "    </tr>\n",
              "    <tr>\n",
              "      <th>3</th>\n",
              "      <td>4</td>\n",
              "      <td>Pure Cycles</td>\n",
              "    </tr>\n",
              "    <tr>\n",
              "      <th>4</th>\n",
              "      <td>5</td>\n",
              "      <td>Ritchey</td>\n",
              "    </tr>\n",
              "    <tr>\n",
              "      <th>5</th>\n",
              "      <td>6</td>\n",
              "      <td>Strider</td>\n",
              "    </tr>\n",
              "    <tr>\n",
              "      <th>6</th>\n",
              "      <td>7</td>\n",
              "      <td>Sun Bicycles</td>\n",
              "    </tr>\n",
              "    <tr>\n",
              "      <th>7</th>\n",
              "      <td>8</td>\n",
              "      <td>Surly</td>\n",
              "    </tr>\n",
              "    <tr>\n",
              "      <th>8</th>\n",
              "      <td>9</td>\n",
              "      <td>Trek</td>\n",
              "    </tr>\n",
              "  </tbody>\n",
              "</table>\n",
              "</div>"
            ],
            "text/plain": [
              "   brand_id    brand_name\n",
              "0         1       Electra\n",
              "1         2          Haro\n",
              "2         3        Heller\n",
              "3         4   Pure Cycles\n",
              "4         5       Ritchey\n",
              "5         6       Strider\n",
              "6         7  Sun Bicycles\n",
              "7         8         Surly\n",
              "8         9          Trek"
            ]
          },
          "metadata": {},
          "execution_count": 20
        }
      ]
    },
    {
      "cell_type": "code",
      "metadata": {
        "id": "xeJuVO9VHEfk"
      },
      "source": [
        "categories = pd.read_excel('https://github.com/wtitze/4E/blob/main/BikeStores.xls?raw=true',sheet_name=1)"
      ],
      "execution_count": null,
      "outputs": []
    },
    {
      "cell_type": "code",
      "metadata": {
        "colab": {
          "base_uri": "https://localhost:8080/",
          "height": 269
        },
        "id": "JxPJFg6nKo2q",
        "outputId": "7884341e-9bba-4a75-bd1d-bba4e7b906c7"
      },
      "source": [
        "categories"
      ],
      "execution_count": null,
      "outputs": [
        {
          "output_type": "execute_result",
          "data": {
            "text/html": [
              "<div>\n",
              "<style scoped>\n",
              "    .dataframe tbody tr th:only-of-type {\n",
              "        vertical-align: middle;\n",
              "    }\n",
              "\n",
              "    .dataframe tbody tr th {\n",
              "        vertical-align: top;\n",
              "    }\n",
              "\n",
              "    .dataframe thead th {\n",
              "        text-align: right;\n",
              "    }\n",
              "</style>\n",
              "<table border=\"1\" class=\"dataframe\">\n",
              "  <thead>\n",
              "    <tr style=\"text-align: right;\">\n",
              "      <th></th>\n",
              "      <th>category_id</th>\n",
              "      <th>category_name</th>\n",
              "    </tr>\n",
              "  </thead>\n",
              "  <tbody>\n",
              "    <tr>\n",
              "      <th>0</th>\n",
              "      <td>1</td>\n",
              "      <td>Children Bicycles</td>\n",
              "    </tr>\n",
              "    <tr>\n",
              "      <th>1</th>\n",
              "      <td>2</td>\n",
              "      <td>Comfort Bicycles</td>\n",
              "    </tr>\n",
              "    <tr>\n",
              "      <th>2</th>\n",
              "      <td>3</td>\n",
              "      <td>Cruisers Bicycles</td>\n",
              "    </tr>\n",
              "    <tr>\n",
              "      <th>3</th>\n",
              "      <td>4</td>\n",
              "      <td>Cyclocross Bicycles</td>\n",
              "    </tr>\n",
              "    <tr>\n",
              "      <th>4</th>\n",
              "      <td>5</td>\n",
              "      <td>Electric Bikes</td>\n",
              "    </tr>\n",
              "    <tr>\n",
              "      <th>5</th>\n",
              "      <td>6</td>\n",
              "      <td>Mountain Bikes</td>\n",
              "    </tr>\n",
              "    <tr>\n",
              "      <th>6</th>\n",
              "      <td>7</td>\n",
              "      <td>Road Bikes</td>\n",
              "    </tr>\n",
              "  </tbody>\n",
              "</table>\n",
              "</div>"
            ],
            "text/plain": [
              "   category_id        category_name\n",
              "0            1    Children Bicycles\n",
              "1            2     Comfort Bicycles\n",
              "2            3    Cruisers Bicycles\n",
              "3            4  Cyclocross Bicycles\n",
              "4            5       Electric Bikes\n",
              "5            6       Mountain Bikes\n",
              "6            7           Road Bikes"
            ]
          },
          "metadata": {},
          "execution_count": 22
        }
      ]
    },
    {
      "cell_type": "code",
      "metadata": {
        "id": "b4nMZtjQJqC3"
      },
      "source": [
        "products = pd.read_excel('https://github.com/wtitze/4E/blob/main/BikeStores.xls?raw=true',sheet_name=2)"
      ],
      "execution_count": null,
      "outputs": []
    },
    {
      "cell_type": "code",
      "metadata": {
        "colab": {
          "base_uri": "https://localhost:8080/",
          "height": 424
        },
        "id": "n34DD_pHKokP",
        "outputId": "0f0a409f-2c54-40fa-adf2-ed035577ab0a"
      },
      "source": [
        "products"
      ],
      "execution_count": null,
      "outputs": [
        {
          "output_type": "execute_result",
          "data": {
            "text/html": [
              "<div>\n",
              "<style scoped>\n",
              "    .dataframe tbody tr th:only-of-type {\n",
              "        vertical-align: middle;\n",
              "    }\n",
              "\n",
              "    .dataframe tbody tr th {\n",
              "        vertical-align: top;\n",
              "    }\n",
              "\n",
              "    .dataframe thead th {\n",
              "        text-align: right;\n",
              "    }\n",
              "</style>\n",
              "<table border=\"1\" class=\"dataframe\">\n",
              "  <thead>\n",
              "    <tr style=\"text-align: right;\">\n",
              "      <th></th>\n",
              "      <th>product_id</th>\n",
              "      <th>product_name</th>\n",
              "      <th>brand_id</th>\n",
              "      <th>category_id</th>\n",
              "      <th>model_year</th>\n",
              "      <th>list_price</th>\n",
              "    </tr>\n",
              "  </thead>\n",
              "  <tbody>\n",
              "    <tr>\n",
              "      <th>0</th>\n",
              "      <td>1</td>\n",
              "      <td>Trek 820 - 2016</td>\n",
              "      <td>9</td>\n",
              "      <td>6</td>\n",
              "      <td>2016</td>\n",
              "      <td>379.99</td>\n",
              "    </tr>\n",
              "    <tr>\n",
              "      <th>1</th>\n",
              "      <td>2</td>\n",
              "      <td>Ritchey Timberwolf Frameset - 2016</td>\n",
              "      <td>5</td>\n",
              "      <td>6</td>\n",
              "      <td>2016</td>\n",
              "      <td>749.99</td>\n",
              "    </tr>\n",
              "    <tr>\n",
              "      <th>2</th>\n",
              "      <td>3</td>\n",
              "      <td>Surly Wednesday Frameset - 2016</td>\n",
              "      <td>8</td>\n",
              "      <td>6</td>\n",
              "      <td>2016</td>\n",
              "      <td>999.99</td>\n",
              "    </tr>\n",
              "    <tr>\n",
              "      <th>3</th>\n",
              "      <td>4</td>\n",
              "      <td>Trek Fuel EX 8 29 - 2016</td>\n",
              "      <td>9</td>\n",
              "      <td>6</td>\n",
              "      <td>2016</td>\n",
              "      <td>2899.99</td>\n",
              "    </tr>\n",
              "    <tr>\n",
              "      <th>4</th>\n",
              "      <td>5</td>\n",
              "      <td>Heller Shagamaw Frame - 2016</td>\n",
              "      <td>3</td>\n",
              "      <td>6</td>\n",
              "      <td>2016</td>\n",
              "      <td>1320.99</td>\n",
              "    </tr>\n",
              "    <tr>\n",
              "      <th>...</th>\n",
              "      <td>...</td>\n",
              "      <td>...</td>\n",
              "      <td>...</td>\n",
              "      <td>...</td>\n",
              "      <td>...</td>\n",
              "      <td>...</td>\n",
              "    </tr>\n",
              "    <tr>\n",
              "      <th>316</th>\n",
              "      <td>317</td>\n",
              "      <td>Trek Checkpoint ALR 5 - 2019</td>\n",
              "      <td>9</td>\n",
              "      <td>7</td>\n",
              "      <td>2019</td>\n",
              "      <td>1999.99</td>\n",
              "    </tr>\n",
              "    <tr>\n",
              "      <th>317</th>\n",
              "      <td>318</td>\n",
              "      <td>Trek Checkpoint ALR 5 Women's - 2019</td>\n",
              "      <td>9</td>\n",
              "      <td>7</td>\n",
              "      <td>2019</td>\n",
              "      <td>1999.99</td>\n",
              "    </tr>\n",
              "    <tr>\n",
              "      <th>318</th>\n",
              "      <td>319</td>\n",
              "      <td>Trek Checkpoint SL 5 Women's - 2019</td>\n",
              "      <td>9</td>\n",
              "      <td>7</td>\n",
              "      <td>2019</td>\n",
              "      <td>2799.99</td>\n",
              "    </tr>\n",
              "    <tr>\n",
              "      <th>319</th>\n",
              "      <td>320</td>\n",
              "      <td>Trek Checkpoint SL 6 - 2019</td>\n",
              "      <td>9</td>\n",
              "      <td>7</td>\n",
              "      <td>2019</td>\n",
              "      <td>3799.99</td>\n",
              "    </tr>\n",
              "    <tr>\n",
              "      <th>320</th>\n",
              "      <td>321</td>\n",
              "      <td>Trek Checkpoint ALR Frameset - 2019</td>\n",
              "      <td>9</td>\n",
              "      <td>7</td>\n",
              "      <td>2019</td>\n",
              "      <td>3199.99</td>\n",
              "    </tr>\n",
              "  </tbody>\n",
              "</table>\n",
              "<p>321 rows × 6 columns</p>\n",
              "</div>"
            ],
            "text/plain": [
              "     product_id                          product_name  ...  model_year  list_price\n",
              "0             1                       Trek 820 - 2016  ...        2016      379.99\n",
              "1             2    Ritchey Timberwolf Frameset - 2016  ...        2016      749.99\n",
              "2             3       Surly Wednesday Frameset - 2016  ...        2016      999.99\n",
              "3             4              Trek Fuel EX 8 29 - 2016  ...        2016     2899.99\n",
              "4             5          Heller Shagamaw Frame - 2016  ...        2016     1320.99\n",
              "..          ...                                   ...  ...         ...         ...\n",
              "316         317          Trek Checkpoint ALR 5 - 2019  ...        2019     1999.99\n",
              "317         318  Trek Checkpoint ALR 5 Women's - 2019  ...        2019     1999.99\n",
              "318         319   Trek Checkpoint SL 5 Women's - 2019  ...        2019     2799.99\n",
              "319         320           Trek Checkpoint SL 6 - 2019  ...        2019     3799.99\n",
              "320         321   Trek Checkpoint ALR Frameset - 2019  ...        2019     3199.99\n",
              "\n",
              "[321 rows x 6 columns]"
            ]
          },
          "metadata": {},
          "execution_count": 24
        }
      ]
    },
    {
      "cell_type": "code",
      "metadata": {
        "id": "Nvh7Ov0TL2EY"
      },
      "source": [
        "catalogo = pd.merge(products, brands, how=\"left\", on=[\"brand_id\"])"
      ],
      "execution_count": null,
      "outputs": []
    },
    {
      "cell_type": "code",
      "metadata": {
        "id": "JWgXYTLJMGlA"
      },
      "source": [
        "catalogo_comp = pd.merge(catalogo, categories, how=\"left\", on=[\"category_id\"])"
      ],
      "execution_count": null,
      "outputs": []
    },
    {
      "cell_type": "code",
      "metadata": {
        "colab": {
          "base_uri": "https://localhost:8080/",
          "height": 424
        },
        "id": "1Wp5hRXfMUcL",
        "outputId": "06efc4aa-ac7d-4468-86ed-693cc4f1658c"
      },
      "source": [
        "catalogo_comp[['product_name','brand_name','category_name']]"
      ],
      "execution_count": null,
      "outputs": [
        {
          "output_type": "execute_result",
          "data": {
            "text/html": [
              "<div>\n",
              "<style scoped>\n",
              "    .dataframe tbody tr th:only-of-type {\n",
              "        vertical-align: middle;\n",
              "    }\n",
              "\n",
              "    .dataframe tbody tr th {\n",
              "        vertical-align: top;\n",
              "    }\n",
              "\n",
              "    .dataframe thead th {\n",
              "        text-align: right;\n",
              "    }\n",
              "</style>\n",
              "<table border=\"1\" class=\"dataframe\">\n",
              "  <thead>\n",
              "    <tr style=\"text-align: right;\">\n",
              "      <th></th>\n",
              "      <th>product_name</th>\n",
              "      <th>brand_name</th>\n",
              "      <th>category_name</th>\n",
              "    </tr>\n",
              "  </thead>\n",
              "  <tbody>\n",
              "    <tr>\n",
              "      <th>0</th>\n",
              "      <td>Trek 820 - 2016</td>\n",
              "      <td>Trek</td>\n",
              "      <td>Mountain Bikes</td>\n",
              "    </tr>\n",
              "    <tr>\n",
              "      <th>1</th>\n",
              "      <td>Ritchey Timberwolf Frameset - 2016</td>\n",
              "      <td>Ritchey</td>\n",
              "      <td>Mountain Bikes</td>\n",
              "    </tr>\n",
              "    <tr>\n",
              "      <th>2</th>\n",
              "      <td>Surly Wednesday Frameset - 2016</td>\n",
              "      <td>Surly</td>\n",
              "      <td>Mountain Bikes</td>\n",
              "    </tr>\n",
              "    <tr>\n",
              "      <th>3</th>\n",
              "      <td>Trek Fuel EX 8 29 - 2016</td>\n",
              "      <td>Trek</td>\n",
              "      <td>Mountain Bikes</td>\n",
              "    </tr>\n",
              "    <tr>\n",
              "      <th>4</th>\n",
              "      <td>Heller Shagamaw Frame - 2016</td>\n",
              "      <td>Heller</td>\n",
              "      <td>Mountain Bikes</td>\n",
              "    </tr>\n",
              "    <tr>\n",
              "      <th>...</th>\n",
              "      <td>...</td>\n",
              "      <td>...</td>\n",
              "      <td>...</td>\n",
              "    </tr>\n",
              "    <tr>\n",
              "      <th>316</th>\n",
              "      <td>Trek Checkpoint ALR 5 - 2019</td>\n",
              "      <td>Trek</td>\n",
              "      <td>Road Bikes</td>\n",
              "    </tr>\n",
              "    <tr>\n",
              "      <th>317</th>\n",
              "      <td>Trek Checkpoint ALR 5 Women's - 2019</td>\n",
              "      <td>Trek</td>\n",
              "      <td>Road Bikes</td>\n",
              "    </tr>\n",
              "    <tr>\n",
              "      <th>318</th>\n",
              "      <td>Trek Checkpoint SL 5 Women's - 2019</td>\n",
              "      <td>Trek</td>\n",
              "      <td>Road Bikes</td>\n",
              "    </tr>\n",
              "    <tr>\n",
              "      <th>319</th>\n",
              "      <td>Trek Checkpoint SL 6 - 2019</td>\n",
              "      <td>Trek</td>\n",
              "      <td>Road Bikes</td>\n",
              "    </tr>\n",
              "    <tr>\n",
              "      <th>320</th>\n",
              "      <td>Trek Checkpoint ALR Frameset - 2019</td>\n",
              "      <td>Trek</td>\n",
              "      <td>Road Bikes</td>\n",
              "    </tr>\n",
              "  </tbody>\n",
              "</table>\n",
              "<p>321 rows × 3 columns</p>\n",
              "</div>"
            ],
            "text/plain": [
              "                             product_name brand_name   category_name\n",
              "0                         Trek 820 - 2016       Trek  Mountain Bikes\n",
              "1      Ritchey Timberwolf Frameset - 2016    Ritchey  Mountain Bikes\n",
              "2         Surly Wednesday Frameset - 2016      Surly  Mountain Bikes\n",
              "3                Trek Fuel EX 8 29 - 2016       Trek  Mountain Bikes\n",
              "4            Heller Shagamaw Frame - 2016     Heller  Mountain Bikes\n",
              "..                                    ...        ...             ...\n",
              "316          Trek Checkpoint ALR 5 - 2019       Trek      Road Bikes\n",
              "317  Trek Checkpoint ALR 5 Women's - 2019       Trek      Road Bikes\n",
              "318   Trek Checkpoint SL 5 Women's - 2019       Trek      Road Bikes\n",
              "319           Trek Checkpoint SL 6 - 2019       Trek      Road Bikes\n",
              "320   Trek Checkpoint ALR Frameset - 2019       Trek      Road Bikes\n",
              "\n",
              "[321 rows x 3 columns]"
            ]
          },
          "metadata": {},
          "execution_count": 33
        }
      ]
    },
    {
      "cell_type": "code",
      "metadata": {
        "colab": {
          "base_uri": "https://localhost:8080/"
        },
        "id": "onFmgHpWMrir",
        "outputId": "7334a0a9-60b9-49e1-b7ce-fda697e22c1f"
      },
      "source": [
        "catalogo_comp.groupby('category_name').count()['product_id']"
      ],
      "execution_count": null,
      "outputs": [
        {
          "output_type": "execute_result",
          "data": {
            "text/plain": [
              "category_name\n",
              "Children Bicycles      59\n",
              "Comfort Bicycles       30\n",
              "Cruisers Bicycles      78\n",
              "Cyclocross Bicycles    10\n",
              "Electric Bikes         24\n",
              "Mountain Bikes         60\n",
              "Road Bikes             60\n",
              "Name: product_id, dtype: int64"
            ]
          },
          "metadata": {},
          "execution_count": 35
        }
      ]
    },
    {
      "cell_type": "markdown",
      "metadata": {
        "id": "a7nPlba9NKah"
      },
      "source": [
        "il numero di prodotti per ogni marca (brand). Visualizzare i nomi dei brand e il numero di prodotti"
      ]
    },
    {
      "cell_type": "code",
      "metadata": {
        "colab": {
          "base_uri": "https://localhost:8080/"
        },
        "id": "vMZnvHiONFtt",
        "outputId": "2a3fdc7b-3471-4182-96cb-6ea77d7b598b"
      },
      "source": [
        "catalogo_comp.groupby('brand_name').count()['product_id']"
      ],
      "execution_count": null,
      "outputs": [
        {
          "output_type": "execute_result",
          "data": {
            "text/plain": [
              "brand_name\n",
              "Electra         118\n",
              "Haro             10\n",
              "Heller            3\n",
              "Pure Cycles       3\n",
              "Ritchey           1\n",
              "Strider           3\n",
              "Sun Bicycles     23\n",
              "Surly            25\n",
              "Trek            135\n",
              "Name: product_id, dtype: int64"
            ]
          },
          "metadata": {},
          "execution_count": 36
        }
      ]
    },
    {
      "cell_type": "markdown",
      "metadata": {
        "id": "1YBpQlelNQqf"
      },
      "source": [
        "i nomi dei prodotti della marca Trek"
      ]
    },
    {
      "cell_type": "code",
      "metadata": {
        "colab": {
          "base_uri": "https://localhost:8080/",
          "height": 81
        },
        "id": "3MuGIs89NQ9N",
        "outputId": "e472c9fa-0eb9-40a9-9f49-c48220ecd413"
      },
      "source": [
        "cb = catalogo_comp.groupby('brand_name').count()['product_id'].reset_index()\n",
        "cb.rename(columns={'product_id': 'total'}, inplace=True)\n",
        "cb[cb.brand_name == 'Trek']"
      ],
      "execution_count": null,
      "outputs": [
        {
          "output_type": "execute_result",
          "data": {
            "text/html": [
              "<div>\n",
              "<style scoped>\n",
              "    .dataframe tbody tr th:only-of-type {\n",
              "        vertical-align: middle;\n",
              "    }\n",
              "\n",
              "    .dataframe tbody tr th {\n",
              "        vertical-align: top;\n",
              "    }\n",
              "\n",
              "    .dataframe thead th {\n",
              "        text-align: right;\n",
              "    }\n",
              "</style>\n",
              "<table border=\"1\" class=\"dataframe\">\n",
              "  <thead>\n",
              "    <tr style=\"text-align: right;\">\n",
              "      <th></th>\n",
              "      <th>brand_name</th>\n",
              "      <th>total</th>\n",
              "    </tr>\n",
              "  </thead>\n",
              "  <tbody>\n",
              "    <tr>\n",
              "      <th>8</th>\n",
              "      <td>Trek</td>\n",
              "      <td>135</td>\n",
              "    </tr>\n",
              "  </tbody>\n",
              "</table>\n",
              "</div>"
            ],
            "text/plain": [
              "  brand_name  total\n",
              "8       Trek    135"
            ]
          },
          "metadata": {},
          "execution_count": 62
        }
      ]
    },
    {
      "cell_type": "markdown",
      "metadata": {
        "id": "vsfjgfIMNlvd"
      },
      "source": [
        "i prodotti delle categorie che hanno la parola 'Bikes' nel nome"
      ]
    },
    {
      "cell_type": "code",
      "metadata": {
        "colab": {
          "base_uri": "https://localhost:8080/"
        },
        "id": "QWvdj-aCNd9q",
        "outputId": "e9e659eb-caf9-490f-b59e-e718259dbc0e"
      },
      "source": [
        "cc = catalogo_comp.groupby('category_name').count()['product_id']\n",
        "cc[cc.index.str.contains('Bikes')]"
      ],
      "execution_count": null,
      "outputs": [
        {
          "output_type": "execute_result",
          "data": {
            "text/plain": [
              "category_name\n",
              "Electric Bikes    24\n",
              "Mountain Bikes    60\n",
              "Road Bikes        60\n",
              "Name: product_id, dtype: int64"
            ]
          },
          "metadata": {},
          "execution_count": 48
        }
      ]
    },
    {
      "cell_type": "markdown",
      "metadata": {
        "id": "gs6XzEi4ORAD"
      },
      "source": [
        "la categoria che ha il prodotto che costa di più"
      ]
    },
    {
      "cell_type": "code",
      "metadata": {
        "colab": {
          "base_uri": "https://localhost:8080/"
        },
        "id": "GBs-b60-OQfc",
        "outputId": "6a09fcc4-b881-4b10-da7c-c704b88bb39b"
      },
      "source": [
        "catalogo_comp[catalogo_comp['list_price'] == catalogo_comp['list_price'].max()]['category_name']"
      ],
      "execution_count": null,
      "outputs": [
        {
          "output_type": "execute_result",
          "data": {
            "text/plain": [
              "154    Road Bikes\n",
              "Name: category_name, dtype: object"
            ]
          },
          "metadata": {},
          "execution_count": 50
        }
      ]
    },
    {
      "cell_type": "markdown",
      "metadata": {
        "id": "sfHxXsmqO6LO"
      },
      "source": [
        "i brand con almeno 100 prodotti. Viaulizzare il nome del brand e il numero di prodotti"
      ]
    },
    {
      "cell_type": "code",
      "metadata": {
        "colab": {
          "base_uri": "https://localhost:8080/",
          "height": 112
        },
        "id": "7qF9WnhWOu8N",
        "outputId": "99218d02-d36d-43bb-b226-23aae11be84f"
      },
      "source": [
        "cb[cb.total>= 100]"
      ],
      "execution_count": null,
      "outputs": [
        {
          "output_type": "execute_result",
          "data": {
            "text/html": [
              "<div>\n",
              "<style scoped>\n",
              "    .dataframe tbody tr th:only-of-type {\n",
              "        vertical-align: middle;\n",
              "    }\n",
              "\n",
              "    .dataframe tbody tr th {\n",
              "        vertical-align: top;\n",
              "    }\n",
              "\n",
              "    .dataframe thead th {\n",
              "        text-align: right;\n",
              "    }\n",
              "</style>\n",
              "<table border=\"1\" class=\"dataframe\">\n",
              "  <thead>\n",
              "    <tr style=\"text-align: right;\">\n",
              "      <th></th>\n",
              "      <th>brand_name</th>\n",
              "      <th>total</th>\n",
              "    </tr>\n",
              "  </thead>\n",
              "  <tbody>\n",
              "    <tr>\n",
              "      <th>0</th>\n",
              "      <td>Electra</td>\n",
              "      <td>118</td>\n",
              "    </tr>\n",
              "    <tr>\n",
              "      <th>8</th>\n",
              "      <td>Trek</td>\n",
              "      <td>135</td>\n",
              "    </tr>\n",
              "  </tbody>\n",
              "</table>\n",
              "</div>"
            ],
            "text/plain": [
              "  brand_name  total\n",
              "0    Electra    118\n",
              "8       Trek    135"
            ]
          },
          "metadata": {},
          "execution_count": 63
        }
      ]
    },
    {
      "cell_type": "markdown",
      "metadata": {
        "id": "iqZTBKJrP9qO"
      },
      "source": [
        "la marca del prodotto 'Electra Townie Original 21D - 2016'"
      ]
    },
    {
      "cell_type": "code",
      "metadata": {
        "colab": {
          "base_uri": "https://localhost:8080/"
        },
        "id": "f5qCRSZjPzi1",
        "outputId": "a982be33-4ea3-4093-80b2-bf6d30b0fa3f"
      },
      "source": [
        "catalogo_comp[catalogo_comp['product_name'] ==  'Electra Townie Original 21D - 2016']['brand_name']"
      ],
      "execution_count": null,
      "outputs": [
        {
          "output_type": "execute_result",
          "data": {
            "text/plain": [
              "11    Electra\n",
              "23    Electra\n",
              "Name: brand_name, dtype: object"
            ]
          },
          "metadata": {},
          "execution_count": 64
        }
      ]
    },
    {
      "cell_type": "markdown",
      "metadata": {
        "id": "E5q3tyIwQSMP"
      },
      "source": [
        "il numero di prodotti per ogni anno. Visualizzare l'anno e il numero di prodotti"
      ]
    },
    {
      "cell_type": "code",
      "metadata": {
        "colab": {
          "base_uri": "https://localhost:8080/",
          "height": 175
        },
        "id": "mNsf4P61QNus",
        "outputId": "1afb3f7d-2858-467d-8891-8a6de4f841a3"
      },
      "source": [
        "prdyear = catalogo_comp.groupby('model_year').count()['product_id'].reset_index()\n",
        "prdyear.rename(columns={'product_id': 'numProdotti'}, inplace=True)\n",
        "prdyear"
      ],
      "execution_count": null,
      "outputs": [
        {
          "output_type": "execute_result",
          "data": {
            "text/html": [
              "<div>\n",
              "<style scoped>\n",
              "    .dataframe tbody tr th:only-of-type {\n",
              "        vertical-align: middle;\n",
              "    }\n",
              "\n",
              "    .dataframe tbody tr th {\n",
              "        vertical-align: top;\n",
              "    }\n",
              "\n",
              "    .dataframe thead th {\n",
              "        text-align: right;\n",
              "    }\n",
              "</style>\n",
              "<table border=\"1\" class=\"dataframe\">\n",
              "  <thead>\n",
              "    <tr style=\"text-align: right;\">\n",
              "      <th></th>\n",
              "      <th>model_year</th>\n",
              "      <th>numProdotti</th>\n",
              "    </tr>\n",
              "  </thead>\n",
              "  <tbody>\n",
              "    <tr>\n",
              "      <th>0</th>\n",
              "      <td>2016</td>\n",
              "      <td>26</td>\n",
              "    </tr>\n",
              "    <tr>\n",
              "      <th>1</th>\n",
              "      <td>2017</td>\n",
              "      <td>85</td>\n",
              "    </tr>\n",
              "    <tr>\n",
              "      <th>2</th>\n",
              "      <td>2018</td>\n",
              "      <td>204</td>\n",
              "    </tr>\n",
              "    <tr>\n",
              "      <th>3</th>\n",
              "      <td>2019</td>\n",
              "      <td>6</td>\n",
              "    </tr>\n",
              "  </tbody>\n",
              "</table>\n",
              "</div>"
            ],
            "text/plain": [
              "   model_year  numProdotti\n",
              "0        2016           26\n",
              "1        2017           85\n",
              "2        2018          204\n",
              "3        2019            6"
            ]
          },
          "metadata": {},
          "execution_count": 70
        }
      ]
    },
    {
      "cell_type": "code",
      "metadata": {
        "id": "_plrlmUiQbH-"
      },
      "source": [
        ""
      ],
      "execution_count": null,
      "outputs": []
    }
  ]
}